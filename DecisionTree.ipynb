{
  "nbformat": 4,
  "nbformat_minor": 0,
  "metadata": {
    "colab": {
      "name": "DecisionTree.ipynb",
      "provenance": [],
      "collapsed_sections": [],
      "authorship_tag": "ABX9TyPyKVaEi1kP5IM2CRL8JVhy",
      "include_colab_link": true
    },
    "kernelspec": {
      "name": "python3",
      "display_name": "Python 3"
    }
  },
  "cells": [
    {
      "cell_type": "markdown",
      "metadata": {
        "id": "view-in-github",
        "colab_type": "text"
      },
      "source": [
        "<a href=\"https://colab.research.google.com/github/ParasNandwani/MLmodels/blob/master/DecisionTree.ipynb\" target=\"_parent\"><img src=\"https://colab.research.google.com/assets/colab-badge.svg\" alt=\"Open In Colab\"/></a>"
      ]
    },
    {
      "cell_type": "markdown",
      "metadata": {
        "id": "5LH3k7Kx9aeQ",
        "colab_type": "text"
      },
      "source": [
        "## Decision Tree On Titanic dataset"
      ]
    },
    {
      "cell_type": "markdown",
      "metadata": {
        "id": "GJzXbNaF_W3u",
        "colab_type": "text"
      },
      "source": [
        "Table Of Contents:-       \n",
        "1. Problem Statement.   \n",
        "2. Data Loading and Description.   \n",
        "3. PreProcessing.    \n",
        "4. Decision Tree\n",
        "  - 4.1 Introduction Of Decision Tree\n",
        "  - 4.2 Important Terminology related to Decision Trees\n",
        "  - 4.3 Types Of Decision Trees\n",
        "\n",
        "\n",
        "\n"
      ]
    },
    {
      "cell_type": "markdown",
      "metadata": {
        "id": "BjZzfOiKAVZ7",
        "colab_type": "text"
      },
      "source": [
        "### 1. Problem Statement.   \n",
        "The goal is to **predict survival** of passengers travelling in RMS **Titanic** using **Logistic Regression**"
      ]
    },
    {
      "cell_type": "markdown",
      "metadata": {
        "id": "aCh8bDXdLQ4d",
        "colab_type": "text"
      },
      "source": [
        "## Data Loading and Description.      \n",
        "Importing Packages"
      ]
    },
    {
      "cell_type": "code",
      "metadata": {
        "id": "ZjY1VY2j_WH4",
        "colab_type": "code",
        "colab": {}
      },
      "source": [
        "import numpy as np\n",
        "import pandas as pd\n",
        "import pandas_profiling\n",
        "import seaborn as sns\n",
        "import matplotlib.pyplot as plt\n",
        "%matplotlib inline\n",
        "sns.set()\n",
        "\n",
        "from subprocess import check_output\n"
      ],
      "execution_count": 0,
      "outputs": []
    },
    {
      "cell_type": "code",
      "metadata": {
        "id": "ZG73TgMA_WEq",
        "colab_type": "code",
        "colab": {}
      },
      "source": [
        "titanic_data=pd.read_csv(\"https://raw.githubusercontent.com/insaid2018/Term-1/master/Data/Casestudy/titanic_train.csv\")"
      ],
      "execution_count": 0,
      "outputs": []
    },
    {
      "cell_type": "code",
      "metadata": {
        "id": "srHS25L38tmb",
        "colab_type": "code",
        "outputId": "02774d21-0f71-4aec-e5b3-8e081ceaf757",
        "colab": {
          "base_uri": "https://localhost:8080/",
          "height": 204
        }
      },
      "source": [
        "titanic_data.head()"
      ],
      "execution_count": 28,
      "outputs": [
        {
          "output_type": "execute_result",
          "data": {
            "text/html": [
              "<div>\n",
              "<style scoped>\n",
              "    .dataframe tbody tr th:only-of-type {\n",
              "        vertical-align: middle;\n",
              "    }\n",
              "\n",
              "    .dataframe tbody tr th {\n",
              "        vertical-align: top;\n",
              "    }\n",
              "\n",
              "    .dataframe thead th {\n",
              "        text-align: right;\n",
              "    }\n",
              "</style>\n",
              "<table border=\"1\" class=\"dataframe\">\n",
              "  <thead>\n",
              "    <tr style=\"text-align: right;\">\n",
              "      <th></th>\n",
              "      <th>PassengerId</th>\n",
              "      <th>Survived</th>\n",
              "      <th>Pclass</th>\n",
              "      <th>Name</th>\n",
              "      <th>Sex</th>\n",
              "      <th>Age</th>\n",
              "      <th>SibSp</th>\n",
              "      <th>Parch</th>\n",
              "      <th>Ticket</th>\n",
              "      <th>Fare</th>\n",
              "      <th>Cabin</th>\n",
              "      <th>Embarked</th>\n",
              "    </tr>\n",
              "  </thead>\n",
              "  <tbody>\n",
              "    <tr>\n",
              "      <th>0</th>\n",
              "      <td>1</td>\n",
              "      <td>0</td>\n",
              "      <td>3</td>\n",
              "      <td>Braund, Mr. Owen Harris</td>\n",
              "      <td>male</td>\n",
              "      <td>22.0</td>\n",
              "      <td>1</td>\n",
              "      <td>0</td>\n",
              "      <td>A/5 21171</td>\n",
              "      <td>7.2500</td>\n",
              "      <td>NaN</td>\n",
              "      <td>S</td>\n",
              "    </tr>\n",
              "    <tr>\n",
              "      <th>1</th>\n",
              "      <td>2</td>\n",
              "      <td>1</td>\n",
              "      <td>1</td>\n",
              "      <td>Cumings, Mrs. John Bradley (Florence Briggs Th...</td>\n",
              "      <td>female</td>\n",
              "      <td>38.0</td>\n",
              "      <td>1</td>\n",
              "      <td>0</td>\n",
              "      <td>PC 17599</td>\n",
              "      <td>71.2833</td>\n",
              "      <td>C85</td>\n",
              "      <td>C</td>\n",
              "    </tr>\n",
              "    <tr>\n",
              "      <th>2</th>\n",
              "      <td>3</td>\n",
              "      <td>1</td>\n",
              "      <td>3</td>\n",
              "      <td>Heikkinen, Miss. Laina</td>\n",
              "      <td>female</td>\n",
              "      <td>26.0</td>\n",
              "      <td>0</td>\n",
              "      <td>0</td>\n",
              "      <td>STON/O2. 3101282</td>\n",
              "      <td>7.9250</td>\n",
              "      <td>NaN</td>\n",
              "      <td>S</td>\n",
              "    </tr>\n",
              "    <tr>\n",
              "      <th>3</th>\n",
              "      <td>4</td>\n",
              "      <td>1</td>\n",
              "      <td>1</td>\n",
              "      <td>Futrelle, Mrs. Jacques Heath (Lily May Peel)</td>\n",
              "      <td>female</td>\n",
              "      <td>35.0</td>\n",
              "      <td>1</td>\n",
              "      <td>0</td>\n",
              "      <td>113803</td>\n",
              "      <td>53.1000</td>\n",
              "      <td>C123</td>\n",
              "      <td>S</td>\n",
              "    </tr>\n",
              "    <tr>\n",
              "      <th>4</th>\n",
              "      <td>5</td>\n",
              "      <td>0</td>\n",
              "      <td>3</td>\n",
              "      <td>Allen, Mr. William Henry</td>\n",
              "      <td>male</td>\n",
              "      <td>35.0</td>\n",
              "      <td>0</td>\n",
              "      <td>0</td>\n",
              "      <td>373450</td>\n",
              "      <td>8.0500</td>\n",
              "      <td>NaN</td>\n",
              "      <td>S</td>\n",
              "    </tr>\n",
              "  </tbody>\n",
              "</table>\n",
              "</div>"
            ],
            "text/plain": [
              "   PassengerId  Survived  Pclass  ...     Fare Cabin  Embarked\n",
              "0            1         0       3  ...   7.2500   NaN         S\n",
              "1            2         1       1  ...  71.2833   C85         C\n",
              "2            3         1       3  ...   7.9250   NaN         S\n",
              "3            4         1       1  ...  53.1000  C123         S\n",
              "4            5         0       3  ...   8.0500   NaN         S\n",
              "\n",
              "[5 rows x 12 columns]"
            ]
          },
          "metadata": {
            "tags": []
          },
          "execution_count": 28
        }
      ]
    },
    {
      "cell_type": "code",
      "metadata": {
        "id": "y1ofGL_wL95n",
        "colab_type": "code",
        "outputId": "32f6869f-eea0-4f0f-e44a-064d30b8477a",
        "colab": {
          "base_uri": "https://localhost:8080/",
          "height": 238
        }
      },
      "source": [
        "titanic_data.isnull().sum()"
      ],
      "execution_count": 29,
      "outputs": [
        {
          "output_type": "execute_result",
          "data": {
            "text/plain": [
              "PassengerId      0\n",
              "Survived         0\n",
              "Pclass           0\n",
              "Name             0\n",
              "Sex              0\n",
              "Age            177\n",
              "SibSp            0\n",
              "Parch            0\n",
              "Ticket           0\n",
              "Fare             0\n",
              "Cabin          687\n",
              "Embarked         2\n",
              "dtype: int64"
            ]
          },
          "metadata": {
            "tags": []
          },
          "execution_count": 29
        }
      ]
    },
    {
      "cell_type": "code",
      "metadata": {
        "id": "UBWjAVerODBK",
        "colab_type": "code",
        "outputId": "f0193d0b-3845-4af4-b7bc-d4e1be794523",
        "colab": {
          "base_uri": "https://localhost:8080/",
          "height": 306
        }
      },
      "source": [
        "titanic_data.info()"
      ],
      "execution_count": 30,
      "outputs": [
        {
          "output_type": "stream",
          "text": [
            "<class 'pandas.core.frame.DataFrame'>\n",
            "RangeIndex: 891 entries, 0 to 890\n",
            "Data columns (total 12 columns):\n",
            "PassengerId    891 non-null int64\n",
            "Survived       891 non-null int64\n",
            "Pclass         891 non-null int64\n",
            "Name           891 non-null object\n",
            "Sex            891 non-null object\n",
            "Age            714 non-null float64\n",
            "SibSp          891 non-null int64\n",
            "Parch          891 non-null int64\n",
            "Ticket         891 non-null object\n",
            "Fare           891 non-null float64\n",
            "Cabin          204 non-null object\n",
            "Embarked       889 non-null object\n",
            "dtypes: float64(2), int64(5), object(5)\n",
            "memory usage: 83.7+ KB\n"
          ],
          "name": "stdout"
        }
      ]
    },
    {
      "cell_type": "markdown",
      "metadata": {
        "id": "g8ENjLibOLOj",
        "colab_type": "text"
      },
      "source": [
        "## 3. Preprocessing the data.      \n",
        "-  Dealing with missing values\n",
        "    - Dropping/Replacing missing entries of **Embarked**\n",
        "    - Replacing missing values of **Age** with median values.\n",
        "    - Dropping the column  **'Cabin'** as it has too many values\n",
        "    - Replacing 0 values of fare with median values\n",
        "    "
      ]
    },
    {
      "cell_type": "code",
      "metadata": {
        "id": "PvVqWsXbO7mP",
        "colab_type": "code",
        "colab": {}
      },
      "source": [
        "# fillig with mode values\n",
        "titanic_data.Embarked=titanic_data.Embarked.fillna(titanic_data['Embarked'].mode()[0])"
      ],
      "execution_count": 0,
      "outputs": []
    },
    {
      "cell_type": "code",
      "metadata": {
        "id": "0VMa1Wz9PW6c",
        "colab_type": "code",
        "colab": {}
      },
      "source": [
        "median_age=titanic_data.Age.median()\n",
        "titanic_data.Age.fillna(median_age,inplace=True)"
      ],
      "execution_count": 0,
      "outputs": []
    },
    {
      "cell_type": "code",
      "metadata": {
        "id": "4ZBQAP9xPsIy",
        "colab_type": "code",
        "colab": {}
      },
      "source": [
        "#  Droping column\n",
        "titanic_data.drop('Cabin',axis=1,inplace=True)"
      ],
      "execution_count": 0,
      "outputs": []
    },
    {
      "cell_type": "code",
      "metadata": {
        "id": "V_4bMh-vQEE1",
        "colab_type": "code",
        "colab": {}
      },
      "source": [
        "titanic_data['Fare']=titanic_data.Fare.replace(0,titanic_data['Fare'].median())"
      ],
      "execution_count": 0,
      "outputs": []
    },
    {
      "cell_type": "markdown",
      "metadata": {
        "id": "zuWOMt0yRP1S",
        "colab_type": "text"
      },
      "source": [
        "## Creating  a new feature named FamilySize"
      ]
    },
    {
      "cell_type": "code",
      "metadata": {
        "id": "IhBN0-SwRN3x",
        "colab_type": "code",
        "colab": {}
      },
      "source": [
        "titanic_data['FamilySize']=titanic_data['SibSp']+titanic_data['Parch']+1"
      ],
      "execution_count": 0,
      "outputs": []
    },
    {
      "cell_type": "code",
      "metadata": {
        "id": "REbjvl8kU7zy",
        "colab_type": "code",
        "outputId": "2bd5a52a-8af7-45db-e02d-4cdc2729e904",
        "colab": {
          "base_uri": "https://localhost:8080/",
          "height": 204
        }
      },
      "source": [
        "titanic_data.head()"
      ],
      "execution_count": 36,
      "outputs": [
        {
          "output_type": "execute_result",
          "data": {
            "text/html": [
              "<div>\n",
              "<style scoped>\n",
              "    .dataframe tbody tr th:only-of-type {\n",
              "        vertical-align: middle;\n",
              "    }\n",
              "\n",
              "    .dataframe tbody tr th {\n",
              "        vertical-align: top;\n",
              "    }\n",
              "\n",
              "    .dataframe thead th {\n",
              "        text-align: right;\n",
              "    }\n",
              "</style>\n",
              "<table border=\"1\" class=\"dataframe\">\n",
              "  <thead>\n",
              "    <tr style=\"text-align: right;\">\n",
              "      <th></th>\n",
              "      <th>PassengerId</th>\n",
              "      <th>Survived</th>\n",
              "      <th>Pclass</th>\n",
              "      <th>Name</th>\n",
              "      <th>Sex</th>\n",
              "      <th>Age</th>\n",
              "      <th>SibSp</th>\n",
              "      <th>Parch</th>\n",
              "      <th>Ticket</th>\n",
              "      <th>Fare</th>\n",
              "      <th>Embarked</th>\n",
              "      <th>FamilySize</th>\n",
              "    </tr>\n",
              "  </thead>\n",
              "  <tbody>\n",
              "    <tr>\n",
              "      <th>0</th>\n",
              "      <td>1</td>\n",
              "      <td>0</td>\n",
              "      <td>3</td>\n",
              "      <td>Braund, Mr. Owen Harris</td>\n",
              "      <td>male</td>\n",
              "      <td>22.0</td>\n",
              "      <td>1</td>\n",
              "      <td>0</td>\n",
              "      <td>A/5 21171</td>\n",
              "      <td>7.2500</td>\n",
              "      <td>S</td>\n",
              "      <td>2</td>\n",
              "    </tr>\n",
              "    <tr>\n",
              "      <th>1</th>\n",
              "      <td>2</td>\n",
              "      <td>1</td>\n",
              "      <td>1</td>\n",
              "      <td>Cumings, Mrs. John Bradley (Florence Briggs Th...</td>\n",
              "      <td>female</td>\n",
              "      <td>38.0</td>\n",
              "      <td>1</td>\n",
              "      <td>0</td>\n",
              "      <td>PC 17599</td>\n",
              "      <td>71.2833</td>\n",
              "      <td>C</td>\n",
              "      <td>2</td>\n",
              "    </tr>\n",
              "    <tr>\n",
              "      <th>2</th>\n",
              "      <td>3</td>\n",
              "      <td>1</td>\n",
              "      <td>3</td>\n",
              "      <td>Heikkinen, Miss. Laina</td>\n",
              "      <td>female</td>\n",
              "      <td>26.0</td>\n",
              "      <td>0</td>\n",
              "      <td>0</td>\n",
              "      <td>STON/O2. 3101282</td>\n",
              "      <td>7.9250</td>\n",
              "      <td>S</td>\n",
              "      <td>1</td>\n",
              "    </tr>\n",
              "    <tr>\n",
              "      <th>3</th>\n",
              "      <td>4</td>\n",
              "      <td>1</td>\n",
              "      <td>1</td>\n",
              "      <td>Futrelle, Mrs. Jacques Heath (Lily May Peel)</td>\n",
              "      <td>female</td>\n",
              "      <td>35.0</td>\n",
              "      <td>1</td>\n",
              "      <td>0</td>\n",
              "      <td>113803</td>\n",
              "      <td>53.1000</td>\n",
              "      <td>S</td>\n",
              "      <td>2</td>\n",
              "    </tr>\n",
              "    <tr>\n",
              "      <th>4</th>\n",
              "      <td>5</td>\n",
              "      <td>0</td>\n",
              "      <td>3</td>\n",
              "      <td>Allen, Mr. William Henry</td>\n",
              "      <td>male</td>\n",
              "      <td>35.0</td>\n",
              "      <td>0</td>\n",
              "      <td>0</td>\n",
              "      <td>373450</td>\n",
              "      <td>8.0500</td>\n",
              "      <td>S</td>\n",
              "      <td>1</td>\n",
              "    </tr>\n",
              "  </tbody>\n",
              "</table>\n",
              "</div>"
            ],
            "text/plain": [
              "   PassengerId  Survived  Pclass  ...     Fare Embarked  FamilySize\n",
              "0            1         0       3  ...   7.2500        S           2\n",
              "1            2         1       1  ...  71.2833        C           2\n",
              "2            3         1       3  ...   7.9250        S           1\n",
              "3            4         1       1  ...  53.1000        S           2\n",
              "4            5         0       3  ...   8.0500        S           1\n",
              "\n",
              "[5 rows x 12 columns]"
            ]
          },
          "metadata": {
            "tags": []
          },
          "execution_count": 36
        }
      ]
    },
    {
      "cell_type": "markdown",
      "metadata": {
        "id": "FywmSAIBVIw_",
        "colab_type": "text"
      },
      "source": [
        "## Segmenting Sex column as per Age,Age less than 15 as child ,Age greater than 15 as Males and Females as per their gender "
      ]
    },
    {
      "cell_type": "code",
      "metadata": {
        "id": "DDiB1myUWXNS",
        "colab_type": "code",
        "outputId": "ce9118e6-7dcc-44b4-dbf7-68298885a1c2",
        "colab": {
          "base_uri": "https://localhost:8080/",
          "height": 255
        }
      },
      "source": [
        "titanic_data['GenderClass']=titanic_data.apply(lambda x:'child' if x['Age']<15 else x['Sex'],axis=1)\n",
        "titanic_data.head()"
      ],
      "execution_count": 37,
      "outputs": [
        {
          "output_type": "execute_result",
          "data": {
            "text/html": [
              "<div>\n",
              "<style scoped>\n",
              "    .dataframe tbody tr th:only-of-type {\n",
              "        vertical-align: middle;\n",
              "    }\n",
              "\n",
              "    .dataframe tbody tr th {\n",
              "        vertical-align: top;\n",
              "    }\n",
              "\n",
              "    .dataframe thead th {\n",
              "        text-align: right;\n",
              "    }\n",
              "</style>\n",
              "<table border=\"1\" class=\"dataframe\">\n",
              "  <thead>\n",
              "    <tr style=\"text-align: right;\">\n",
              "      <th></th>\n",
              "      <th>PassengerId</th>\n",
              "      <th>Survived</th>\n",
              "      <th>Pclass</th>\n",
              "      <th>Name</th>\n",
              "      <th>Sex</th>\n",
              "      <th>Age</th>\n",
              "      <th>SibSp</th>\n",
              "      <th>Parch</th>\n",
              "      <th>Ticket</th>\n",
              "      <th>Fare</th>\n",
              "      <th>Embarked</th>\n",
              "      <th>FamilySize</th>\n",
              "      <th>GenderClass</th>\n",
              "    </tr>\n",
              "  </thead>\n",
              "  <tbody>\n",
              "    <tr>\n",
              "      <th>0</th>\n",
              "      <td>1</td>\n",
              "      <td>0</td>\n",
              "      <td>3</td>\n",
              "      <td>Braund, Mr. Owen Harris</td>\n",
              "      <td>male</td>\n",
              "      <td>22.0</td>\n",
              "      <td>1</td>\n",
              "      <td>0</td>\n",
              "      <td>A/5 21171</td>\n",
              "      <td>7.2500</td>\n",
              "      <td>S</td>\n",
              "      <td>2</td>\n",
              "      <td>male</td>\n",
              "    </tr>\n",
              "    <tr>\n",
              "      <th>1</th>\n",
              "      <td>2</td>\n",
              "      <td>1</td>\n",
              "      <td>1</td>\n",
              "      <td>Cumings, Mrs. John Bradley (Florence Briggs Th...</td>\n",
              "      <td>female</td>\n",
              "      <td>38.0</td>\n",
              "      <td>1</td>\n",
              "      <td>0</td>\n",
              "      <td>PC 17599</td>\n",
              "      <td>71.2833</td>\n",
              "      <td>C</td>\n",
              "      <td>2</td>\n",
              "      <td>female</td>\n",
              "    </tr>\n",
              "    <tr>\n",
              "      <th>2</th>\n",
              "      <td>3</td>\n",
              "      <td>1</td>\n",
              "      <td>3</td>\n",
              "      <td>Heikkinen, Miss. Laina</td>\n",
              "      <td>female</td>\n",
              "      <td>26.0</td>\n",
              "      <td>0</td>\n",
              "      <td>0</td>\n",
              "      <td>STON/O2. 3101282</td>\n",
              "      <td>7.9250</td>\n",
              "      <td>S</td>\n",
              "      <td>1</td>\n",
              "      <td>female</td>\n",
              "    </tr>\n",
              "    <tr>\n",
              "      <th>3</th>\n",
              "      <td>4</td>\n",
              "      <td>1</td>\n",
              "      <td>1</td>\n",
              "      <td>Futrelle, Mrs. Jacques Heath (Lily May Peel)</td>\n",
              "      <td>female</td>\n",
              "      <td>35.0</td>\n",
              "      <td>1</td>\n",
              "      <td>0</td>\n",
              "      <td>113803</td>\n",
              "      <td>53.1000</td>\n",
              "      <td>S</td>\n",
              "      <td>2</td>\n",
              "      <td>female</td>\n",
              "    </tr>\n",
              "    <tr>\n",
              "      <th>4</th>\n",
              "      <td>5</td>\n",
              "      <td>0</td>\n",
              "      <td>3</td>\n",
              "      <td>Allen, Mr. William Henry</td>\n",
              "      <td>male</td>\n",
              "      <td>35.0</td>\n",
              "      <td>0</td>\n",
              "      <td>0</td>\n",
              "      <td>373450</td>\n",
              "      <td>8.0500</td>\n",
              "      <td>S</td>\n",
              "      <td>1</td>\n",
              "      <td>male</td>\n",
              "    </tr>\n",
              "  </tbody>\n",
              "</table>\n",
              "</div>"
            ],
            "text/plain": [
              "   PassengerId  Survived  Pclass  ... Embarked FamilySize  GenderClass\n",
              "0            1         0       3  ...        S          2         male\n",
              "1            2         1       1  ...        C          2       female\n",
              "2            3         1       3  ...        S          1       female\n",
              "3            4         1       1  ...        S          2       female\n",
              "4            5         0       3  ...        S          1         male\n",
              "\n",
              "[5 rows x 13 columns]"
            ]
          },
          "metadata": {
            "tags": []
          },
          "execution_count": 37
        }
      ]
    },
    {
      "cell_type": "code",
      "metadata": {
        "id": "SqKHQqVaXDvT",
        "colab_type": "code",
        "outputId": "6169ce2f-9337-4faf-cad1-ba3156c4249c",
        "colab": {
          "base_uri": "https://localhost:8080/",
          "height": 111
        }
      },
      "source": [
        "titanic_data[titanic_data['Age']<15].head(2)"
      ],
      "execution_count": 38,
      "outputs": [
        {
          "output_type": "execute_result",
          "data": {
            "text/html": [
              "<div>\n",
              "<style scoped>\n",
              "    .dataframe tbody tr th:only-of-type {\n",
              "        vertical-align: middle;\n",
              "    }\n",
              "\n",
              "    .dataframe tbody tr th {\n",
              "        vertical-align: top;\n",
              "    }\n",
              "\n",
              "    .dataframe thead th {\n",
              "        text-align: right;\n",
              "    }\n",
              "</style>\n",
              "<table border=\"1\" class=\"dataframe\">\n",
              "  <thead>\n",
              "    <tr style=\"text-align: right;\">\n",
              "      <th></th>\n",
              "      <th>PassengerId</th>\n",
              "      <th>Survived</th>\n",
              "      <th>Pclass</th>\n",
              "      <th>Name</th>\n",
              "      <th>Sex</th>\n",
              "      <th>Age</th>\n",
              "      <th>SibSp</th>\n",
              "      <th>Parch</th>\n",
              "      <th>Ticket</th>\n",
              "      <th>Fare</th>\n",
              "      <th>Embarked</th>\n",
              "      <th>FamilySize</th>\n",
              "      <th>GenderClass</th>\n",
              "    </tr>\n",
              "  </thead>\n",
              "  <tbody>\n",
              "    <tr>\n",
              "      <th>7</th>\n",
              "      <td>8</td>\n",
              "      <td>0</td>\n",
              "      <td>3</td>\n",
              "      <td>Palsson, Master. Gosta Leonard</td>\n",
              "      <td>male</td>\n",
              "      <td>2.0</td>\n",
              "      <td>3</td>\n",
              "      <td>1</td>\n",
              "      <td>349909</td>\n",
              "      <td>21.0750</td>\n",
              "      <td>S</td>\n",
              "      <td>5</td>\n",
              "      <td>child</td>\n",
              "    </tr>\n",
              "    <tr>\n",
              "      <th>9</th>\n",
              "      <td>10</td>\n",
              "      <td>1</td>\n",
              "      <td>2</td>\n",
              "      <td>Nasser, Mrs. Nicholas (Adele Achem)</td>\n",
              "      <td>female</td>\n",
              "      <td>14.0</td>\n",
              "      <td>1</td>\n",
              "      <td>0</td>\n",
              "      <td>237736</td>\n",
              "      <td>30.0708</td>\n",
              "      <td>C</td>\n",
              "      <td>2</td>\n",
              "      <td>child</td>\n",
              "    </tr>\n",
              "  </tbody>\n",
              "</table>\n",
              "</div>"
            ],
            "text/plain": [
              "   PassengerId  Survived  Pclass  ... Embarked FamilySize  GenderClass\n",
              "7            8         0       3  ...        S          5        child\n",
              "9           10         1       2  ...        C          2        child\n",
              "\n",
              "[2 rows x 13 columns]"
            ]
          },
          "metadata": {
            "tags": []
          },
          "execution_count": 38
        }
      ]
    },
    {
      "cell_type": "markdown",
      "metadata": {
        "id": "6onfQFw3XSub",
        "colab_type": "text"
      },
      "source": [
        "## Dummification of GenderClass & Embarked"
      ]
    },
    {
      "cell_type": "code",
      "metadata": {
        "id": "yXcH8vzjXPvy",
        "colab_type": "code",
        "colab": {}
      },
      "source": [
        "titanic_data = pd.get_dummies(titanic_data, columns=['GenderClass','Embarked'], drop_first=True)"
      ],
      "execution_count": 0,
      "outputs": []
    },
    {
      "cell_type": "code",
      "metadata": {
        "id": "OoMNOxkuXiUG",
        "colab_type": "code",
        "outputId": "0008d315-003a-4112-e383-4801d706ba75",
        "colab": {
          "base_uri": "https://localhost:8080/",
          "height": 284
        }
      },
      "source": [
        "titanic_data.head(2)"
      ],
      "execution_count": 40,
      "outputs": [
        {
          "output_type": "execute_result",
          "data": {
            "text/html": [
              "<div>\n",
              "<style scoped>\n",
              "    .dataframe tbody tr th:only-of-type {\n",
              "        vertical-align: middle;\n",
              "    }\n",
              "\n",
              "    .dataframe tbody tr th {\n",
              "        vertical-align: top;\n",
              "    }\n",
              "\n",
              "    .dataframe thead th {\n",
              "        text-align: right;\n",
              "    }\n",
              "</style>\n",
              "<table border=\"1\" class=\"dataframe\">\n",
              "  <thead>\n",
              "    <tr style=\"text-align: right;\">\n",
              "      <th></th>\n",
              "      <th>PassengerId</th>\n",
              "      <th>Survived</th>\n",
              "      <th>Pclass</th>\n",
              "      <th>Name</th>\n",
              "      <th>Sex</th>\n",
              "      <th>Age</th>\n",
              "      <th>SibSp</th>\n",
              "      <th>Parch</th>\n",
              "      <th>Ticket</th>\n",
              "      <th>Fare</th>\n",
              "      <th>FamilySize</th>\n",
              "      <th>GenderClass_female</th>\n",
              "      <th>GenderClass_male</th>\n",
              "      <th>Embarked_Q</th>\n",
              "      <th>Embarked_S</th>\n",
              "    </tr>\n",
              "  </thead>\n",
              "  <tbody>\n",
              "    <tr>\n",
              "      <th>0</th>\n",
              "      <td>1</td>\n",
              "      <td>0</td>\n",
              "      <td>3</td>\n",
              "      <td>Braund, Mr. Owen Harris</td>\n",
              "      <td>male</td>\n",
              "      <td>22.0</td>\n",
              "      <td>1</td>\n",
              "      <td>0</td>\n",
              "      <td>A/5 21171</td>\n",
              "      <td>7.2500</td>\n",
              "      <td>2</td>\n",
              "      <td>0</td>\n",
              "      <td>1</td>\n",
              "      <td>0</td>\n",
              "      <td>1</td>\n",
              "    </tr>\n",
              "    <tr>\n",
              "      <th>1</th>\n",
              "      <td>2</td>\n",
              "      <td>1</td>\n",
              "      <td>1</td>\n",
              "      <td>Cumings, Mrs. John Bradley (Florence Briggs Th...</td>\n",
              "      <td>female</td>\n",
              "      <td>38.0</td>\n",
              "      <td>1</td>\n",
              "      <td>0</td>\n",
              "      <td>PC 17599</td>\n",
              "      <td>71.2833</td>\n",
              "      <td>2</td>\n",
              "      <td>1</td>\n",
              "      <td>0</td>\n",
              "      <td>0</td>\n",
              "      <td>0</td>\n",
              "    </tr>\n",
              "  </tbody>\n",
              "</table>\n",
              "</div>"
            ],
            "text/plain": [
              "   PassengerId  Survived  Pclass  ... GenderClass_male Embarked_Q  Embarked_S\n",
              "0            1         0       3  ...                1          0           1\n",
              "1            2         1       1  ...                0          0           0\n",
              "\n",
              "[2 rows x 15 columns]"
            ]
          },
          "metadata": {
            "tags": []
          },
          "execution_count": 40
        }
      ]
    },
    {
      "cell_type": "markdown",
      "metadata": {
        "id": "sF-ARe8qX56u",
        "colab_type": "text"
      },
      "source": [
        "## Dropping Columns 'Name','Ticket','Sex','Sibsp' and 'Parch','PassengerId'"
      ]
    },
    {
      "cell_type": "code",
      "metadata": {
        "id": "kFN3JI6YX24-",
        "colab_type": "code",
        "colab": {}
      },
      "source": [
        "titanic=titanic_data.drop(['Name','Ticket','Sex','SibSp','Parch','PassengerId'],axis=1)"
      ],
      "execution_count": 0,
      "outputs": []
    },
    {
      "cell_type": "code",
      "metadata": {
        "id": "rEq_NSsnY-jb",
        "colab_type": "code",
        "outputId": "c3ce57fd-b6d4-45e7-b371-23707b5b9240",
        "colab": {
          "base_uri": "https://localhost:8080/",
          "height": 204
        }
      },
      "source": [
        "titanic.head()"
      ],
      "execution_count": 42,
      "outputs": [
        {
          "output_type": "execute_result",
          "data": {
            "text/html": [
              "<div>\n",
              "<style scoped>\n",
              "    .dataframe tbody tr th:only-of-type {\n",
              "        vertical-align: middle;\n",
              "    }\n",
              "\n",
              "    .dataframe tbody tr th {\n",
              "        vertical-align: top;\n",
              "    }\n",
              "\n",
              "    .dataframe thead th {\n",
              "        text-align: right;\n",
              "    }\n",
              "</style>\n",
              "<table border=\"1\" class=\"dataframe\">\n",
              "  <thead>\n",
              "    <tr style=\"text-align: right;\">\n",
              "      <th></th>\n",
              "      <th>Survived</th>\n",
              "      <th>Pclass</th>\n",
              "      <th>Age</th>\n",
              "      <th>Fare</th>\n",
              "      <th>FamilySize</th>\n",
              "      <th>GenderClass_female</th>\n",
              "      <th>GenderClass_male</th>\n",
              "      <th>Embarked_Q</th>\n",
              "      <th>Embarked_S</th>\n",
              "    </tr>\n",
              "  </thead>\n",
              "  <tbody>\n",
              "    <tr>\n",
              "      <th>0</th>\n",
              "      <td>0</td>\n",
              "      <td>3</td>\n",
              "      <td>22.0</td>\n",
              "      <td>7.2500</td>\n",
              "      <td>2</td>\n",
              "      <td>0</td>\n",
              "      <td>1</td>\n",
              "      <td>0</td>\n",
              "      <td>1</td>\n",
              "    </tr>\n",
              "    <tr>\n",
              "      <th>1</th>\n",
              "      <td>1</td>\n",
              "      <td>1</td>\n",
              "      <td>38.0</td>\n",
              "      <td>71.2833</td>\n",
              "      <td>2</td>\n",
              "      <td>1</td>\n",
              "      <td>0</td>\n",
              "      <td>0</td>\n",
              "      <td>0</td>\n",
              "    </tr>\n",
              "    <tr>\n",
              "      <th>2</th>\n",
              "      <td>1</td>\n",
              "      <td>3</td>\n",
              "      <td>26.0</td>\n",
              "      <td>7.9250</td>\n",
              "      <td>1</td>\n",
              "      <td>1</td>\n",
              "      <td>0</td>\n",
              "      <td>0</td>\n",
              "      <td>1</td>\n",
              "    </tr>\n",
              "    <tr>\n",
              "      <th>3</th>\n",
              "      <td>1</td>\n",
              "      <td>1</td>\n",
              "      <td>35.0</td>\n",
              "      <td>53.1000</td>\n",
              "      <td>2</td>\n",
              "      <td>1</td>\n",
              "      <td>0</td>\n",
              "      <td>0</td>\n",
              "      <td>1</td>\n",
              "    </tr>\n",
              "    <tr>\n",
              "      <th>4</th>\n",
              "      <td>0</td>\n",
              "      <td>3</td>\n",
              "      <td>35.0</td>\n",
              "      <td>8.0500</td>\n",
              "      <td>1</td>\n",
              "      <td>0</td>\n",
              "      <td>1</td>\n",
              "      <td>0</td>\n",
              "      <td>1</td>\n",
              "    </tr>\n",
              "  </tbody>\n",
              "</table>\n",
              "</div>"
            ],
            "text/plain": [
              "   Survived  Pclass   Age  ...  GenderClass_male  Embarked_Q  Embarked_S\n",
              "0         0       3  22.0  ...                 1           0           1\n",
              "1         1       1  38.0  ...                 0           0           0\n",
              "2         1       3  26.0  ...                 0           0           1\n",
              "3         1       1  35.0  ...                 0           0           1\n",
              "4         0       3  35.0  ...                 1           0           1\n",
              "\n",
              "[5 rows x 9 columns]"
            ]
          },
          "metadata": {
            "tags": []
          },
          "execution_count": 42
        }
      ]
    },
    {
      "cell_type": "markdown",
      "metadata": {
        "id": "h9ia87LAZJaw",
        "colab_type": "text"
      },
      "source": [
        "## Drawing pair plot to know joint relationship between 'Fare','Age','PClass' adnd 'Survived'"
      ]
    },
    {
      "cell_type": "code",
      "metadata": {
        "id": "RK0aRZDYZa_2",
        "colab_type": "code",
        "outputId": "3a9d66e0-d5e6-455a-a3ef-cad78393f74d",
        "colab": {
          "base_uri": "https://localhost:8080/",
          "height": 584
        }
      },
      "source": [
        "sns.pairplot(titanic[['Fare','Age','Pclass','Survived']],vars=['Fare','Age','Pclass'],hue='Survived')"
      ],
      "execution_count": 43,
      "outputs": [
        {
          "output_type": "execute_result",
          "data": {
            "text/plain": [
              "<seaborn.axisgrid.PairGrid at 0x7f9a57857710>"
            ]
          },
          "metadata": {
            "tags": []
          },
          "execution_count": 43
        },
        {
          "output_type": "display_data",
          "data": {
            "image/png": "[encoded data removed]",
            "text/plain": [
              "<Figure size 594.05x540 with 12 Axes>"
            ]
          },
          "metadata": {
            "tags": []
          }
        }
      ]
    },
    {
      "cell_type": "markdown",
      "metadata": {
        "id": "Nbp-RAVD-7ib",
        "colab_type": "text"
      },
      "source": [
        "Establishing  coorelation between all the features using heatmap"
      ]
    },
    {
      "cell_type": "code",
      "metadata": {
        "id": "bcbr4FQ7bAV9",
        "colab_type": "code",
        "outputId": "7307b2f2-b524-46f2-8ac5-bc50220f64cc",
        "colab": {
          "base_uri": "https://localhost:8080/",
          "height": 670
        }
      },
      "source": [
        "import matplotlib.pyplot as plt\n",
        "corr=titanic.corr()\n",
        "plt.figure(figsize=(10,10))\n",
        "sns.heatmap(corr,vmax=.8,linewidth=0.1,square=True,annot=True,cmap='YlGnBu',linecolor='black')\n",
        "plt.title(\"Correlation between features\")"
      ],
      "execution_count": 44,
      "outputs": [
        {
          "output_type": "execute_result",
          "data": {
            "text/plain": [
              "Text(0.5, 1, 'Correlation between features')"
            ]
          },
          "metadata": {
            "tags": []
          },
          "execution_count": 44
        },
        {
          "output_type": "display_data",
          "data": {
            "image/png": "[encoded data removed]",
            "text/plain": [
              "<Figure size 720x720 with 2 Axes>"
            ]
          },
          "metadata": {
            "tags": []
          }
        }
      ]
    },
    {
      "cell_type": "markdown",
      "metadata": {
        "id": "qJ3Yzk8XEViO",
        "colab_type": "text"
      },
      "source": [
        "# Decision Tree.      \n",
        "\n",
        "A decision tree is one of the most widely used superviesd learning algorithm that can perform both **both regression and classification tasks**.    \n",
        "The intution behind the decision tree algorithm is simple yet powerful.    \n",
        "- A decision tree splits the data into multiple sets. Then each of these sets is further split into subsets to arrive at decision.\n",
        "- It is a very natural decision making process asking a series of questions in a nested if then else statement.\n",
        "- On each node we ask a question to further skip the data held by the node.   \n",
        "The structure of decision tree resembles an upside down tree. with its root at top and branches at bottom.     \n",
        "Decision tree is a type of **Supervised Learning Algorithm**(having a pre-defined target variable) that is mostly used in classification problems.    - It works for both **catagorical and continous** input and output variables.    \n",
        "- In this technique, we split the population or sample into two or more homogeneous sets (or sub populations) based on most signnificant splitter/differentiator in input variables.\n"
      ]
    },
    {
      "cell_type": "markdown",
      "metadata": {
        "id": "LReU-236MYPg",
        "colab_type": "text"
      },
      "source": [
        "## Important terminology related to Decision Trees\n",
        "- **Root Node**.    \n",
        " It represents entire population or sample and this further get divided into two or more homogenous sets.      \n",
        "- **Splitting**.   \n",
        "It is process of dividing a node into two or more sub nodes.       \n",
        "- **Decision Node**.    \n",
        "When a sub node  further splits into further sub-nodes, then it is called Decision Node.    \n",
        "- **Leaf/Terminal Node**.     \n",
        "Nodes do not split is called Leaf Node/terminal Node.\n",
        "- **Prunning**.   \n",
        "When we remove sub-nodes of decision node,this process is called Pruning.Opposite process of splitting.\n",
        "- **Branch / sub-tree**.    \n",
        "A subsection of entire tree is called as Branch/sub-tree\n",
        "-  **Parent and Child node**.  \n",
        "A node which is divided into sub-nodes is called as Parent node of sub nodes where as the sub-nodes are the childof parent node."
      ]
    },
    {
      "cell_type": "markdown",
      "metadata": {
        "id": "KH7thmOjQeZX",
        "colab_type": "text"
      },
      "source": [
        "# Types of Decision Trees.      \n",
        "Type of decision tree is based on the type of Target Variable we have.It can be of two types:     \n",
        "- **Catagorical variable Decision Tree**.      \n",
        " -  Decision trees which has catagorical tareget variable is called as Catagorical Variable Decision Tree\n",
        "- **Continous variable Decision Tree**\n",
        " - Decision Tree has continous target variable then it is called as Continous Variable Decision Tree."
      ]
    },
    {
      "cell_type": "markdown",
      "metadata": {
        "id": "yGwcySbbNelR",
        "colab_type": "text"
      },
      "source": [
        "# Concept of Homogenity.   \n",
        "Homogenous population are alike  and Hetereogenous Population are unlike.    \n",
        "- A Hetereogenous population is one where indviduals are not similar to another.\n",
        "- For example,we could have a hetereogenous population in terms of humans that have migrated from different regions of the world and living together.That population woykld likely be heterogenous in regards to height,hair texture,diseases immunity and other traits because of the varied background and gentics.   \n"
      ]
    },
    {
      "cell_type": "markdown",
      "metadata": {
        "id": "tMHtowNLQDs9",
        "colab_type": "text"
      },
      "source": [
        "### How does a tree decide where to split ?\n",
        "The decision of making strategic split heavily affects a. tree's accuracy.The decision criteria is different for classification and regression trees.Decision tree uses multiple algorithm to decide to split a node into tow or more sub-nodes.The creation of sub-nodes increases the homogenity of resultant sub-nodes .In other words we can say that purity of the node increases "
      ]
    },
    {
      "cell_type": "markdown",
      "metadata": {
        "id": "FQFJGN7vU7G_",
        "colab_type": "text"
      },
      "source": [
        "#Gini Index\n",
        "Gini index says,if we select two items from a population at random and then they"
      ]
    },
    {
      "cell_type": "markdown",
      "metadata": {
        "id": "JihKonkaVYEb",
        "colab_type": "text"
      },
      "source": [
        "#Preparing X and Y using pandas\n"
      ]
    },
    {
      "cell_type": "code",
      "metadata": {
        "id": "6NCpLs2vCdSB",
        "colab_type": "code",
        "colab": {}
      },
      "source": [
        "X=titanic.loc[:,titanic.columns != 'Survived']"
      ],
      "execution_count": 0,
      "outputs": []
    },
    {
      "cell_type": "code",
      "metadata": {
        "id": "96cUGz0tVvB8",
        "colab_type": "code",
        "colab": {}
      },
      "source": [
        "Y=titanic.Survived"
      ],
      "execution_count": 0,
      "outputs": []
    },
    {
      "cell_type": "code",
      "metadata": {
        "id": "8oPKyfzOV1Gm",
        "colab_type": "code",
        "colab": {
          "base_uri": "https://localhost:8080/",
          "height": 51
        },
        "outputId": "c0ccae5a-c7b5-48f5-f847-5d43bf3a4368"
      },
      "source": [
        "print(X.shape)\n",
        "print(Y.shape)"
      ],
      "execution_count": 47,
      "outputs": [
        {
          "output_type": "stream",
          "text": [
            "(891, 8)\n",
            "(891,)\n"
          ],
          "name": "stdout"
        }
      ]
    },
    {
      "cell_type": "markdown",
      "metadata": {
        "id": "qdnP8PpIV79N",
        "colab_type": "text"
      },
      "source": [
        "# Splitting X and Y into training and test set"
      ]
    },
    {
      "cell_type": "code",
      "metadata": {
        "id": "O8lDWKdxV5fk",
        "colab_type": "code",
        "colab": {
          "base_uri": "https://localhost:8080/",
          "height": 85
        },
        "outputId": "252edde0-7dfe-4058-cadf-7d46b140ae53"
      },
      "source": [
        "from sklearn.model_selection import train_test_split\n",
        "X_train,X_test,Y_train,Y_test= train_test_split(X,Y,test_size=0.20,random_state=1)\n",
        "\n",
        "print(X_train.shape)\n",
        "print(Y_train.shape)\n",
        "print(X_test.shape)\n",
        "print(Y_test.shape)"
      ],
      "execution_count": 50,
      "outputs": [
        {
          "output_type": "stream",
          "text": [
            "(712, 8)\n",
            "(712,)\n",
            "(179, 8)\n",
            "(179,)\n"
          ],
          "name": "stdout"
        }
      ]
    },
    {
      "cell_type": "markdown",
      "metadata": {
        "id": "fywJhVB2W4Nh",
        "colab_type": "text"
      },
      "source": [
        "# Decision Tree in scikit learn\n",
        "To apply an machine learning algorithm on our dataset,basically there are 4 steps:\n",
        "1. Load the algorithm\n",
        "2. Instantiate and fit the model to the training dataset\n",
        "3. Prediction on the test set\n",
        "4. Calculating the accuracy of the model\n",
        "\n",
        "\n",
        "from sklearn import tree.  \n",
        "model= tree.DecisionTreeClassifier(criterion='gini').  \n",
        "model.fit(x,y).   \n",
        "predicted= model.prredict(x_test)\n",
        "\n",
        "\n"
      ]
    },
    {
      "cell_type": "code",
      "metadata": {
        "id": "ZKVrSWQhW1k3",
        "colab_type": "code",
        "colab": {
          "base_uri": "https://localhost:8080/",
          "height": 119
        },
        "outputId": "8658af8c-f07a-4aa7-cad1-10ecfeaa9697"
      },
      "source": [
        "  from sklearn import tree\n",
        "  model= tree.DecisionTreeClassifier(random_state=0,criterion='entropy')# base model\n",
        "  model.fit(X_train,Y_train)\n"
      ],
      "execution_count": 53,
      "outputs": [
        {
          "output_type": "execute_result",
          "data": {
            "text/plain": [
              "DecisionTreeClassifier(ccp_alpha=0.0, class_weight=None, criterion='entropy',\n",
              "                       max_depth=None, max_features=None, max_leaf_nodes=None,\n",
              "                       min_impurity_decrease=0.0, min_impurity_split=None,\n",
              "                       min_samples_leaf=1, min_samples_split=2,\n",
              "                       min_weight_fraction_leaf=0.0, presort='deprecated',\n",
              "                       random_state=0, splitter='best')"
            ]
          },
          "metadata": {
            "tags": []
          },
          "execution_count": 53
        }
      ]
    },
    {
      "cell_type": "markdown",
      "metadata": {
        "id": "GNBFUkImcOb9",
        "colab_type": "text"
      },
      "source": [
        "Plotting Our Model For Decision Tree\n"
      ]
    },
    {
      "cell_type": "code",
      "metadata": {
        "id": "f9fWRR0qcLIl",
        "colab_type": "code",
        "colab": {
          "base_uri": "https://localhost:8080/",
          "height": 34
        },
        "outputId": "8a0112f1-5893-4be2-f9d9-4603816443ad"
      },
      "source": [
        "from graphviz import Source\n",
        "graph=Source(tree.export_graphviz(model,out_file=None,filled=True,rounded=True,feature_names=X.columns))\n",
        "graph.render('dtree_render',view=True)"
      ],
      "execution_count": 58,
      "outputs": [
        {
          "output_type": "execute_result",
          "data": {
            "text/plain": [
              "'dtree_render.pdf'"
            ]
          },
          "metadata": {
            "tags": []
          },
          "execution_count": 58
        }
      ]
    },
    {
      "cell_type": "code",
      "metadata": {
        "id": "uHp7ecPMd4ME",
        "colab_type": "code",
        "colab": {
          "base_uri": "https://localhost:8080/",
          "height": 1000
        },
        "outputId": "ecd10711-1e58-4c86-c3e2-160524dc1f15"
      },
      "source": [
        "tree.plot_tree(model)"
      ],
      "execution_count": 57,
      "outputs": [
        {
          "output_type": "execute_result",
          "data": {
            "text/plain": [
              "[Text(139.2392523364486, 212.49818181818182, 'X[5] <= 0.5\\nentropy = 0.956\\nsamples = 712\\nvalue = [443, 269]'),\n",
              " Text(61.797196261682245, 202.61454545454546, 'X[0] <= 2.5\\nentropy = 0.847\\nsamples = 281\\nvalue = [77, 204]'),\n",
              " Text(26.596261682242993, 192.73090909090908, 'X[2] <= 28.856\\nentropy = 0.272\\nsamples = 150\\nvalue = [7, 143]'),\n",
              " Text(20.338317757009346, 182.84727272727272, 'X[2] <= 28.231\\nentropy = 0.469\\nsamples = 60\\nvalue = [6, 54]'),\n",
              " Text(17.209345794392526, 172.96363636363637, 'X[1] <= 21.5\\nentropy = 0.419\\nsamples = 59\\nvalue = [5, 54]'),\n",
              " Text(14.080373831775702, 163.07999999999998, 'entropy = 0.0\\nsamples = 16\\nvalue = [0, 16]'),\n",
              " Text(20.338317757009346, 163.07999999999998, 'X[1] <= 27.5\\nentropy = 0.519\\nsamples = 43\\nvalue = [5, 38]'),\n",
              " Text(12.51588785046729, 153.19636363636363, 'X[1] <= 25.5\\nentropy = 0.954\\nsamples = 8\\nvalue = [3, 5]'),\n",
              " Text(6.257943925233645, 143.31272727272727, 'X[3] <= 1.5\\nentropy = 0.722\\nsamples = 5\\nvalue = [1, 4]'),\n",
              " Text(3.1289719626168226, 133.42909090909092, 'entropy = 1.0\\nsamples = 2\\nvalue = [1, 1]'),\n",
              " Text(9.386915887850467, 133.42909090909092, 'entropy = 0.0\\nsamples = 3\\nvalue = [0, 3]'),\n",
              " Text(18.773831775700934, 143.31272727272727, 'X[2] <= 15.75\\nentropy = 0.918\\nsamples = 3\\nvalue = [2, 1]'),\n",
              " Text(15.644859813084114, 133.42909090909092, 'entropy = 0.0\\nsamples = 1\\nvalue = [0, 1]'),\n",
              " Text(21.902803738317758, 133.42909090909092, 'entropy = 0.0\\nsamples = 2\\nvalue = [2, 0]'),\n",
              " Text(28.160747663551405, 153.19636363636363, 'X[1] <= 37.0\\nentropy = 0.316\\nsamples = 35\\nvalue = [2, 33]'),\n",
              " Text(25.03177570093458, 143.31272727272727, 'entropy = 0.0\\nsamples = 20\\nvalue = [0, 20]'),\n",
              " Text(31.289719626168228, 143.31272727272727, 'X[1] <= 39.0\\nentropy = 0.567\\nsamples = 15\\nvalue = [2, 13]'),\n",
              " Text(28.160747663551405, 133.42909090909092, 'entropy = 0.0\\nsamples = 1\\nvalue = [1, 0]'),\n",
              " Text(34.41869158878505, 133.42909090909092, 'X[2] <= 24.5\\nentropy = 0.371\\nsamples = 14\\nvalue = [1, 13]'),\n",
              " Text(31.289719626168228, 123.54545454545455, 'entropy = 0.0\\nsamples = 8\\nvalue = [0, 8]'),\n",
              " Text(37.54766355140187, 123.54545454545455, 'X[1] <= 44.5\\nentropy = 0.65\\nsamples = 6\\nvalue = [1, 5]'),\n",
              " Text(34.41869158878505, 113.66181818181819, 'X[2] <= 26.86\\nentropy = 0.918\\nsamples = 3\\nvalue = [1, 2]'),\n",
              " Text(31.289719626168228, 103.77818181818182, 'X[1] <= 43.0\\nentropy = 1.0\\nsamples = 2\\nvalue = [1, 1]'),\n",
              " Text(28.160747663551405, 93.89454545454547, 'entropy = 0.0\\nsamples = 1\\nvalue = [0, 1]'),\n",
              " Text(34.41869158878505, 93.89454545454547, 'entropy = 0.0\\nsamples = 1\\nvalue = [1, 0]'),\n",
              " Text(37.54766355140187, 103.77818181818182, 'entropy = 0.0\\nsamples = 1\\nvalue = [0, 1]'),\n",
              " Text(40.67663551401869, 113.66181818181819, 'entropy = 0.0\\nsamples = 3\\nvalue = [0, 3]'),\n",
              " Text(23.46728971962617, 172.96363636363637, 'entropy = 0.0\\nsamples = 1\\nvalue = [1, 0]'),\n",
              " Text(32.854205607476636, 182.84727272727272, 'X[1] <= 2.5\\nentropy = 0.088\\nsamples = 90\\nvalue = [1, 89]'),\n",
              " Text(29.725233644859816, 172.96363636363637, 'X[1] <= 1.5\\nentropy = 0.811\\nsamples = 4\\nvalue = [1, 3]'),\n",
              " Text(26.596261682242993, 163.07999999999998, 'entropy = 0.0\\nsamples = 3\\nvalue = [0, 3]'),\n",
              " Text(32.854205607476636, 163.07999999999998, 'entropy = 0.0\\nsamples = 1\\nvalue = [1, 0]'),\n",
              " Text(35.98317757009346, 172.96363636363637, 'entropy = 0.0\\nsamples = 86\\nvalue = [0, 86]'),\n",
              " Text(96.99813084112151, 192.73090909090908, 'X[3] <= 4.5\\nentropy = 0.997\\nsamples = 131\\nvalue = [70, 61]'),\n",
              " Text(81.35327102803738, 182.84727272727272, 'X[1] <= 7.5\\nentropy = 0.976\\nsamples = 98\\nvalue = [40, 58]'),\n",
              " Text(78.22429906542057, 172.96363636363637, 'entropy = 0.0\\nsamples = 12\\nvalue = [0, 12]'),\n",
              " Text(84.48224299065421, 172.96363636363637, 'X[6] <= 0.5\\nentropy = 0.996\\nsamples = 86\\nvalue = [40, 46]'),\n",
              " Text(68.8373831775701, 163.07999999999998, 'X[2] <= 7.523\\nentropy = 0.99\\nsamples = 59\\nvalue = [33, 26]'),\n",
              " Text(65.70841121495327, 153.19636363636363, 'entropy = 0.0\\nsamples = 5\\nvalue = [0, 5]'),\n",
              " Text(71.96635514018692, 153.19636363636363, 'X[2] <= 15.573\\nentropy = 0.964\\nsamples = 54\\nvalue = [33, 21]'),\n",
              " Text(59.45046728971963, 143.31272727272727, 'X[2] <= 13.438\\nentropy = 0.863\\nsamples = 35\\nvalue = [25, 10]'),\n",
              " Text(56.32149532710281, 133.42909090909092, 'X[2] <= 10.852\\nentropy = 0.951\\nsamples = 27\\nvalue = [17, 10]'),\n",
              " Text(53.192523364485986, 123.54545454545455, 'X[1] <= 19.5\\nentropy = 0.828\\nsamples = 23\\nvalue = [17, 6]'),\n",
              " Text(46.93457943925234, 113.66181818181819, 'X[3] <= 1.5\\nentropy = 0.971\\nsamples = 5\\nvalue = [2, 3]'),\n",
              " Text(43.805607476635515, 103.77818181818182, 'X[2] <= 8.848\\nentropy = 0.918\\nsamples = 3\\nvalue = [2, 1]'),\n",
              " Text(40.67663551401869, 93.89454545454547, 'entropy = 0.0\\nsamples = 2\\nvalue = [2, 0]'),\n",
              " Text(46.93457943925234, 93.89454545454547, 'entropy = 0.0\\nsamples = 1\\nvalue = [0, 1]'),\n",
              " Text(50.06355140186916, 103.77818181818182, 'entropy = 0.0\\nsamples = 2\\nvalue = [0, 2]'),\n",
              " Text(59.45046728971963, 113.66181818181819, 'X[1] <= 54.0\\nentropy = 0.65\\nsamples = 18\\nvalue = [15, 3]'),\n",
              " Text(56.32149532710281, 103.77818181818182, 'X[2] <= 7.875\\nentropy = 0.523\\nsamples = 17\\nvalue = [15, 2]'),\n",
              " Text(53.192523364485986, 93.89454545454547, 'X[1] <= 27.0\\nentropy = 0.918\\nsamples = 6\\nvalue = [4, 2]'),\n",
              " Text(50.06355140186916, 84.01090909090911, 'X[2] <= 7.763\\nentropy = 0.918\\nsamples = 3\\nvalue = [1, 2]'),\n",
              " Text(46.93457943925234, 74.12727272727273, 'entropy = 0.0\\nsamples = 1\\nvalue = [0, 1]'),\n",
              " Text(53.192523364485986, 74.12727272727273, 'X[1] <= 25.5\\nentropy = 1.0\\nsamples = 2\\nvalue = [1, 1]'),\n",
              " Text(50.06355140186916, 64.24363636363637, 'entropy = 0.0\\nsamples = 1\\nvalue = [1, 0]'),\n",
              " Text(56.32149532710281, 64.24363636363637, 'entropy = 0.0\\nsamples = 1\\nvalue = [0, 1]'),\n",
              " Text(56.32149532710281, 84.01090909090911, 'entropy = 0.0\\nsamples = 3\\nvalue = [3, 0]'),\n",
              " Text(59.45046728971963, 93.89454545454547, 'entropy = 0.0\\nsamples = 11\\nvalue = [11, 0]'),\n",
              " Text(62.579439252336456, 103.77818181818182, 'entropy = 0.0\\nsamples = 1\\nvalue = [0, 1]'),\n",
              " Text(59.45046728971963, 123.54545454545455, 'entropy = 0.0\\nsamples = 4\\nvalue = [0, 4]'),\n",
              " Text(62.579439252336456, 133.42909090909092, 'entropy = 0.0\\nsamples = 8\\nvalue = [8, 0]'),\n",
              " Text(84.48224299065421, 143.31272727272727, 'X[2] <= 22.904\\nentropy = 0.982\\nsamples = 19\\nvalue = [8, 11]'),\n",
              " Text(81.35327102803738, 133.42909090909092, 'X[2] <= 20.231\\nentropy = 0.896\\nsamples = 16\\nvalue = [5, 11]'),\n",
              " Text(78.22429906542057, 123.54545454545455, 'X[2] <= 17.7\\nentropy = 0.994\\nsamples = 11\\nvalue = [5, 6]'),\n",
              " Text(71.96635514018692, 113.66181818181819, 'X[1] <= 27.0\\nentropy = 0.65\\nsamples = 6\\nvalue = [1, 5]'),\n",
              " Text(68.8373831775701, 103.77818181818182, 'X[1] <= 25.0\\nentropy = 0.918\\nsamples = 3\\nvalue = [1, 2]'),\n",
              " Text(65.70841121495327, 93.89454545454547, 'entropy = 0.0\\nsamples = 2\\nvalue = [0, 2]'),\n",
              " Text(71.96635514018692, 93.89454545454547, 'entropy = 0.0\\nsamples = 1\\nvalue = [1, 0]'),\n",
              " Text(75.09532710280374, 103.77818181818182, 'entropy = 0.0\\nsamples = 3\\nvalue = [0, 3]'),\n",
              " Text(84.48224299065421, 113.66181818181819, 'X[3] <= 3.5\\nentropy = 0.722\\nsamples = 5\\nvalue = [4, 1]'),\n",
              " Text(81.35327102803738, 103.77818181818182, 'entropy = 0.0\\nsamples = 4\\nvalue = [4, 0]'),\n",
              " Text(87.61121495327103, 103.77818181818182, 'entropy = 0.0\\nsamples = 1\\nvalue = [0, 1]'),\n",
              " Text(84.48224299065421, 123.54545454545455, 'entropy = 0.0\\nsamples = 5\\nvalue = [0, 5]'),\n",
              " Text(87.61121495327103, 133.42909090909092, 'entropy = 0.0\\nsamples = 3\\nvalue = [3, 0]'),\n",
              " Text(100.12710280373832, 163.07999999999998, 'X[1] <= 29.25\\nentropy = 0.826\\nsamples = 27\\nvalue = [7, 20]'),\n",
              " Text(96.99813084112151, 153.19636363636363, 'X[2] <= 7.681\\nentropy = 0.722\\nsamples = 25\\nvalue = [5, 20]'),\n",
              " Text(93.86915887850468, 143.31272727272727, 'entropy = 0.0\\nsamples = 2\\nvalue = [2, 0]'),\n",
              " Text(100.12710280373832, 143.31272727272727, 'X[2] <= 7.769\\nentropy = 0.559\\nsamples = 23\\nvalue = [3, 20]'),\n",
              " Text(96.99813084112151, 133.42909090909092, 'X[3] <= 2.0\\nentropy = 0.811\\nsamples = 12\\nvalue = [3, 9]'),\n",
              " Text(93.86915887850468, 123.54545454545455, 'X[2] <= 7.744\\nentropy = 0.684\\nsamples = 11\\nvalue = [2, 9]'),\n",
              " Text(90.74018691588786, 113.66181818181819, 'entropy = 0.0\\nsamples = 3\\nvalue = [0, 3]'),\n",
              " Text(96.99813084112151, 113.66181818181819, 'X[1] <= 24.5\\nentropy = 0.811\\nsamples = 8\\nvalue = [2, 6]'),\n",
              " Text(93.86915887850468, 103.77818181818182, 'X[1] <= 18.5\\nentropy = 1.0\\nsamples = 2\\nvalue = [1, 1]'),\n",
              " Text(90.74018691588786, 93.89454545454547, 'entropy = 0.0\\nsamples = 1\\nvalue = [0, 1]'),\n",
              " Text(96.99813084112151, 93.89454545454547, 'entropy = 0.0\\nsamples = 1\\nvalue = [1, 0]'),\n",
              " Text(100.12710280373832, 103.77818181818182, 'entropy = 0.65\\nsamples = 6\\nvalue = [1, 5]'),\n",
              " Text(100.12710280373832, 123.54545454545455, 'entropy = 0.0\\nsamples = 1\\nvalue = [1, 0]'),\n",
              " Text(103.25607476635514, 133.42909090909092, 'entropy = 0.0\\nsamples = 11\\nvalue = [0, 11]'),\n",
              " Text(103.25607476635514, 153.19636363636363, 'entropy = 0.0\\nsamples = 2\\nvalue = [2, 0]'),\n",
              " Text(112.64299065420562, 182.84727272727272, 'X[3] <= 6.5\\nentropy = 0.439\\nsamples = 33\\nvalue = [30, 3]'),\n",
              " Text(109.51401869158879, 172.96363636363637, 'entropy = 0.0\\nsamples = 20\\nvalue = [20, 0]'),\n",
              " Text(115.77196261682244, 172.96363636363637, 'X[2] <= 39.144\\nentropy = 0.779\\nsamples = 13\\nvalue = [10, 3]'),\n",
              " Text(112.64299065420562, 163.07999999999998, 'X[4] <= 0.5\\nentropy = 0.985\\nsamples = 7\\nvalue = [4, 3]'),\n",
              " Text(109.51401869158879, 153.19636363636363, 'X[1] <= 3.5\\nentropy = 0.722\\nsamples = 5\\nvalue = [4, 1]'),\n",
              " Text(106.38504672897197, 143.31272727272727, 'entropy = 0.0\\nsamples = 1\\nvalue = [0, 1]'),\n",
              " Text(112.64299065420562, 143.31272727272727, 'entropy = 0.0\\nsamples = 4\\nvalue = [4, 0]'),\n",
              " Text(115.77196261682244, 153.19636363636363, 'entropy = 0.0\\nsamples = 2\\nvalue = [0, 2]'),\n",
              " Text(118.90093457943927, 163.07999999999998, 'entropy = 0.0\\nsamples = 6\\nvalue = [6, 0]'),\n",
              " Text(216.68130841121496, 202.61454545454546, 'X[0] <= 1.5\\nentropy = 0.612\\nsamples = 431\\nvalue = [366, 65]'),\n",
              " Text(142.36822429906542, 192.73090909090908, 'X[2] <= 26.144\\nentropy = 0.922\\nsamples = 95\\nvalue = [63, 32]'),\n",
              " Text(139.2392523364486, 182.84727272727272, 'entropy = 0.0\\nsamples = 7\\nvalue = [7, 0]'),\n",
              " Text(145.49719626168226, 182.84727272727272, 'X[2] <= 26.469\\nentropy = 0.946\\nsamples = 88\\nvalue = [56, 32]'),\n",
              " Text(142.36822429906542, 172.96363636363637, 'entropy = 0.0\\nsamples = 3\\nvalue = [0, 3]'),\n",
              " Text(148.62616822429908, 172.96363636363637, 'X[1] <= 60.5\\nentropy = 0.926\\nsamples = 85\\nvalue = [56, 29]'),\n",
              " Text(137.6747663551402, 163.07999999999998, 'X[2] <= 30.598\\nentropy = 0.953\\nsamples = 75\\nvalue = [47, 28]'),\n",
              " Text(125.15887850467291, 153.19636363636363, 'X[1] <= 53.5\\nentropy = 0.998\\nsamples = 21\\nvalue = [10, 11]'),\n",
              " Text(122.02990654205608, 143.31272727272727, 'X[2] <= 30.25\\nentropy = 0.964\\nsamples = 18\\nvalue = [7, 11]'),\n",
              " Text(118.90093457943927, 133.42909090909092, 'X[1] <= 46.5\\nentropy = 0.997\\nsamples = 15\\nvalue = [7, 8]'),\n",
              " Text(115.77196261682244, 123.54545454545455, 'X[1] <= 36.0\\nentropy = 0.996\\nsamples = 13\\nvalue = [7, 6]'),\n",
              " Text(112.64299065420562, 113.66181818181819, 'X[1] <= 31.5\\nentropy = 0.971\\nsamples = 10\\nvalue = [4, 6]'),\n",
              " Text(109.51401869158879, 103.77818181818182, 'X[2] <= 28.71\\nentropy = 1.0\\nsamples = 8\\nvalue = [4, 4]'),\n",
              " Text(103.25607476635514, 93.89454545454547, 'X[7] <= 0.5\\nentropy = 0.811\\nsamples = 4\\nvalue = [3, 1]'),\n",
              " Text(100.12710280373832, 84.01090909090911, 'entropy = 0.0\\nsamples = 2\\nvalue = [2, 0]'),\n",
              " Text(106.38504672897197, 84.01090909090911, 'entropy = 1.0\\nsamples = 2\\nvalue = [1, 1]'),\n",
              " Text(115.77196261682244, 93.89454545454547, 'X[1] <= 28.5\\nentropy = 0.811\\nsamples = 4\\nvalue = [1, 3]'),\n",
              " Text(112.64299065420562, 84.01090909090911, 'entropy = 0.0\\nsamples = 3\\nvalue = [0, 3]'),\n",
              " Text(118.90093457943927, 84.01090909090911, 'entropy = 0.0\\nsamples = 1\\nvalue = [1, 0]'),\n",
              " Text(115.77196261682244, 103.77818181818182, 'entropy = 0.0\\nsamples = 2\\nvalue = [0, 2]'),\n",
              " Text(118.90093457943927, 113.66181818181819, 'entropy = 0.0\\nsamples = 3\\nvalue = [3, 0]'),\n",
              " Text(122.02990654205608, 123.54545454545455, 'entropy = 0.0\\nsamples = 2\\nvalue = [0, 2]'),\n",
              " Text(125.15887850467291, 133.42909090909092, 'entropy = 0.0\\nsamples = 3\\nvalue = [0, 3]'),\n",
              " Text(128.28785046728973, 143.31272727272727, 'entropy = 0.0\\nsamples = 3\\nvalue = [3, 0]'),\n",
              " Text(150.19065420560747, 153.19636363636363, 'X[3] <= 1.5\\nentropy = 0.899\\nsamples = 54\\nvalue = [37, 17]'),\n",
              " Text(137.6747663551402, 143.31272727272727, 'X[2] <= 37.0\\nentropy = 0.592\\nsamples = 21\\nvalue = [18, 3]'),\n",
              " Text(134.54579439252336, 133.42909090909092, 'X[2] <= 35.25\\nentropy = 0.918\\nsamples = 9\\nvalue = [6, 3]'),\n",
              " Text(128.28785046728973, 123.54545454545455, 'X[7] <= 0.5\\nentropy = 0.65\\nsamples = 6\\nvalue = [5, 1]'),\n",
              " Text(125.15887850467291, 113.66181818181819, 'X[2] <= 30.848\\nentropy = 0.918\\nsamples = 3\\nvalue = [2, 1]'),\n",
              " Text(122.02990654205608, 103.77818181818182, 'entropy = 0.0\\nsamples = 2\\nvalue = [2, 0]'),\n",
              " Text(128.28785046728973, 103.77818181818182, 'entropy = 0.0\\nsamples = 1\\nvalue = [0, 1]'),\n",
              " Text(131.41682242990655, 113.66181818181819, 'entropy = 0.0\\nsamples = 3\\nvalue = [3, 0]'),\n",
              " Text(140.80373831775702, 123.54545454545455, 'X[7] <= 0.5\\nentropy = 0.918\\nsamples = 3\\nvalue = [1, 2]'),\n",
              " Text(137.6747663551402, 113.66181818181819, 'entropy = 0.0\\nsamples = 1\\nvalue = [0, 1]'),\n",
              " Text(143.93271028037384, 113.66181818181819, 'X[1] <= 36.5\\nentropy = 1.0\\nsamples = 2\\nvalue = [1, 1]'),\n",
              " Text(140.80373831775702, 103.77818181818182, 'entropy = 0.0\\nsamples = 1\\nvalue = [0, 1]'),\n",
              " Text(147.06168224299066, 103.77818181818182, 'entropy = 0.0\\nsamples = 1\\nvalue = [1, 0]'),\n",
              " Text(140.80373831775702, 133.42909090909092, 'entropy = 0.0\\nsamples = 12\\nvalue = [12, 0]'),\n",
              " Text(162.70654205607477, 143.31272727272727, 'X[2] <= 52.827\\nentropy = 0.983\\nsamples = 33\\nvalue = [19, 14]'),\n",
              " Text(156.44859813084113, 133.42909090909092, 'X[2] <= 52.277\\nentropy = 0.811\\nsamples = 4\\nvalue = [1, 3]'),\n",
              " Text(153.31962616822432, 123.54545454545455, 'X[1] <= 45.0\\nentropy = 1.0\\nsamples = 2\\nvalue = [1, 1]'),\n",
              " Text(150.19065420560747, 113.66181818181819, 'entropy = 0.0\\nsamples = 1\\nvalue = [1, 0]'),\n",
              " Text(156.44859813084113, 113.66181818181819, 'entropy = 0.0\\nsamples = 1\\nvalue = [0, 1]'),\n",
              " Text(159.57757009345795, 123.54545454545455, 'entropy = 0.0\\nsamples = 2\\nvalue = [0, 2]'),\n",
              " Text(168.96448598130843, 133.42909090909092, 'X[2] <= 56.45\\nentropy = 0.958\\nsamples = 29\\nvalue = [18, 11]'),\n",
              " Text(165.8355140186916, 123.54545454545455, 'entropy = 0.0\\nsamples = 3\\nvalue = [3, 0]'),\n",
              " Text(172.09345794392524, 123.54545454545455, 'X[2] <= 59.087\\nentropy = 0.983\\nsamples = 26\\nvalue = [15, 11]'),\n",
              " Text(168.96448598130843, 113.66181818181819, 'entropy = 0.0\\nsamples = 1\\nvalue = [0, 1]'),\n",
              " Text(175.22242990654206, 113.66181818181819, 'X[2] <= 62.369\\nentropy = 0.971\\nsamples = 25\\nvalue = [15, 10]'),\n",
              " Text(172.09345794392524, 103.77818181818182, 'entropy = 0.0\\nsamples = 2\\nvalue = [2, 0]'),\n",
              " Text(178.35140186915888, 103.77818181818182, 'X[2] <= 64.979\\nentropy = 0.988\\nsamples = 23\\nvalue = [13, 10]'),\n",
              " Text(175.22242990654206, 93.89454545454547, 'entropy = 0.0\\nsamples = 1\\nvalue = [0, 1]'),\n",
              " Text(181.48037383177572, 93.89454545454547, 'X[2] <= 387.665\\nentropy = 0.976\\nsamples = 22\\nvalue = [13, 9]'),\n",
              " Text(178.35140186915888, 84.01090909090911, 'X[2] <= 143.556\\nentropy = 0.959\\nsamples = 21\\nvalue = [13, 8]'),\n",
              " Text(175.22242990654206, 74.12727272727273, 'X[2] <= 115.442\\nentropy = 0.998\\nsamples = 17\\nvalue = [9, 8]'),\n",
              " Text(172.09345794392524, 64.24363636363637, 'X[7] <= 0.5\\nentropy = 0.971\\nsamples = 15\\nvalue = [9, 6]'),\n",
              " Text(165.8355140186916, 54.360000000000014, 'X[2] <= 89.552\\nentropy = 0.991\\nsamples = 9\\nvalue = [4, 5]'),\n",
              " Text(162.70654205607477, 44.47636363636366, 'entropy = 0.0\\nsamples = 3\\nvalue = [0, 3]'),\n",
              " Text(168.96448598130843, 44.47636363636366, 'X[1] <= 34.5\\nentropy = 0.918\\nsamples = 6\\nvalue = [4, 2]'),\n",
              " Text(165.8355140186916, 34.592727272727274, 'X[3] <= 2.5\\nentropy = 0.918\\nsamples = 3\\nvalue = [1, 2]'),\n",
              " Text(162.70654205607477, 24.709090909090918, 'X[2] <= 99.99\\nentropy = 1.0\\nsamples = 2\\nvalue = [1, 1]'),\n",
              " Text(159.57757009345795, 14.825454545454562, 'entropy = 0.0\\nsamples = 1\\nvalue = [0, 1]'),\n",
              " Text(165.8355140186916, 14.825454545454562, 'entropy = 0.0\\nsamples = 1\\nvalue = [1, 0]'),\n",
              " Text(168.96448598130843, 24.709090909090918, 'entropy = 0.0\\nsamples = 1\\nvalue = [0, 1]'),\n",
              " Text(172.09345794392524, 34.592727272727274, 'entropy = 0.0\\nsamples = 3\\nvalue = [3, 0]'),\n",
              " Text(178.35140186915888, 54.360000000000014, 'X[2] <= 86.737\\nentropy = 0.65\\nsamples = 6\\nvalue = [5, 1]'),\n",
              " Text(175.22242990654206, 44.47636363636366, 'entropy = 0.0\\nsamples = 5\\nvalue = [5, 0]'),\n",
              " Text(181.48037383177572, 44.47636363636366, 'entropy = 0.0\\nsamples = 1\\nvalue = [0, 1]'),\n",
              " Text(178.35140186915888, 64.24363636363637, 'entropy = 0.0\\nsamples = 2\\nvalue = [0, 2]'),\n",
              " Text(181.48037383177572, 74.12727272727273, 'entropy = 0.0\\nsamples = 4\\nvalue = [4, 0]'),\n",
              " Text(184.60934579439254, 84.01090909090911, 'entropy = 0.0\\nsamples = 1\\nvalue = [0, 1]'),\n",
              " Text(159.57757009345795, 163.07999999999998, 'X[1] <= 75.5\\nentropy = 0.469\\nsamples = 10\\nvalue = [9, 1]'),\n",
              " Text(156.44859813084113, 153.19636363636363, 'entropy = 0.0\\nsamples = 9\\nvalue = [9, 0]'),\n",
              " Text(162.70654205607477, 153.19636363636363, 'entropy = 0.0\\nsamples = 1\\nvalue = [0, 1]'),\n",
              " Text(290.9943925233645, 192.73090909090908, 'X[1] <= 32.25\\nentropy = 0.463\\nsamples = 336\\nvalue = [303, 33]'),\n",
              " Text(273.78504672897196, 182.84727272727272, 'X[1] <= 30.75\\nentropy = 0.507\\nsamples = 249\\nvalue = [221, 28]'),\n",
              " Text(262.8336448598131, 172.96363636363637, 'X[2] <= 23.35\\nentropy = 0.424\\nsamples = 232\\nvalue = [212, 20]'),\n",
              " Text(259.7046728971963, 163.07999999999998, 'X[2] <= 22.887\\nentropy = 0.451\\nsamples = 212\\nvalue = [192, 20]'),\n",
              " Text(256.57570093457946, 153.19636363636363, 'X[2] <= 15.373\\nentropy = 0.437\\nsamples = 211\\nvalue = [192, 19]'),\n",
              " Text(253.44672897196264, 143.31272727272727, 'X[2] <= 15.173\\nentropy = 0.462\\nsamples = 194\\nvalue = [175, 19]'),\n",
              " Text(250.31775700934583, 133.42909090909092, 'X[1] <= 28.75\\nentropy = 0.447\\nsamples = 193\\nvalue = [175, 18]'),\n",
              " Text(231.54392523364487, 123.54545454545455, 'X[1] <= 27.5\\nentropy = 0.419\\nsamples = 177\\nvalue = [162, 15]'),\n",
              " Text(212.77009345794394, 113.66181818181819, 'X[2] <= 8.104\\nentropy = 0.519\\nsamples = 103\\nvalue = [91, 12]'),\n",
              " Text(203.38317757009347, 103.77818181818182, 'X[1] <= 26.5\\nentropy = 0.614\\nsamples = 66\\nvalue = [56, 10]'),\n",
              " Text(197.12523364485983, 93.89454545454547, 'X[1] <= 24.25\\nentropy = 0.549\\nsamples = 63\\nvalue = [55, 8]'),\n",
              " Text(193.99626168224302, 84.01090909090911, 'X[2] <= 7.133\\nentropy = 0.634\\nsamples = 50\\nvalue = [42, 8]'),\n",
              " Text(190.86728971962617, 74.12727272727273, 'entropy = 0.0\\nsamples = 7\\nvalue = [7, 0]'),\n",
              " Text(197.12523364485983, 74.12727272727273, 'X[2] <= 7.227\\nentropy = 0.693\\nsamples = 43\\nvalue = [35, 8]'),\n",
              " Text(193.99626168224302, 64.24363636363637, 'entropy = 0.0\\nsamples = 2\\nvalue = [0, 2]'),\n",
              " Text(200.25420560747665, 64.24363636363637, 'X[1] <= 21.5\\nentropy = 0.601\\nsamples = 41\\nvalue = [35, 6]'),\n",
              " Text(197.12523364485983, 54.360000000000014, 'X[2] <= 7.91\\nentropy = 0.75\\nsamples = 28\\nvalue = [22, 6]'),\n",
              " Text(187.73831775700936, 44.47636363636366, 'X[1] <= 19.5\\nentropy = 0.523\\nsamples = 17\\nvalue = [15, 2]'),\n",
              " Text(184.60934579439254, 34.592727272727274, 'entropy = 0.0\\nsamples = 10\\nvalue = [10, 0]'),\n",
              " Text(190.86728971962617, 34.592727272727274, 'X[7] <= 0.5\\nentropy = 0.863\\nsamples = 7\\nvalue = [5, 2]'),\n",
              " Text(187.73831775700936, 24.709090909090918, 'entropy = 0.0\\nsamples = 1\\nvalue = [0, 1]'),\n",
              " Text(193.99626168224302, 24.709090909090918, 'X[2] <= 7.785\\nentropy = 0.65\\nsamples = 6\\nvalue = [5, 1]'),\n",
              " Text(190.86728971962617, 14.825454545454562, 'entropy = 0.0\\nsamples = 3\\nvalue = [3, 0]'),\n",
              " Text(197.12523364485983, 14.825454545454562, 'X[2] <= 7.798\\nentropy = 0.918\\nsamples = 3\\nvalue = [2, 1]'),\n",
              " Text(193.99626168224302, 4.941818181818206, 'entropy = 0.0\\nsamples = 1\\nvalue = [0, 1]'),\n",
              " Text(200.25420560747665, 4.941818181818206, 'entropy = 0.0\\nsamples = 2\\nvalue = [2, 0]'),\n",
              " Text(206.51214953271028, 44.47636363636366, 'X[1] <= 18.5\\nentropy = 0.946\\nsamples = 11\\nvalue = [7, 4]'),\n",
              " Text(203.38317757009347, 34.592727272727274, 'entropy = 0.0\\nsamples = 2\\nvalue = [0, 2]'),\n",
              " Text(209.64112149532713, 34.592727272727274, 'X[3] <= 1.5\\nentropy = 0.764\\nsamples = 9\\nvalue = [7, 2]'),\n",
              " Text(206.51214953271028, 24.709090909090918, 'X[1] <= 19.5\\nentropy = 0.544\\nsamples = 8\\nvalue = [7, 1]'),\n",
              " Text(203.38317757009347, 14.825454545454562, 'entropy = 1.0\\nsamples = 2\\nvalue = [1, 1]'),\n",
              " Text(209.64112149532713, 14.825454545454562, 'entropy = 0.0\\nsamples = 6\\nvalue = [6, 0]'),\n",
              " Text(212.77009345794394, 24.709090909090918, 'entropy = 0.0\\nsamples = 1\\nvalue = [0, 1]'),\n",
              " Text(203.38317757009347, 54.360000000000014, 'entropy = 0.0\\nsamples = 13\\nvalue = [13, 0]'),\n",
              " Text(200.25420560747665, 84.01090909090911, 'entropy = 0.0\\nsamples = 13\\nvalue = [13, 0]'),\n",
              " Text(209.64112149532713, 93.89454545454547, 'X[2] <= 7.846\\nentropy = 0.918\\nsamples = 3\\nvalue = [1, 2]'),\n",
              " Text(206.51214953271028, 84.01090909090911, 'entropy = 0.0\\nsamples = 2\\nvalue = [0, 2]'),\n",
              " Text(212.77009345794394, 84.01090909090911, 'entropy = 0.0\\nsamples = 1\\nvalue = [1, 0]'),\n",
              " Text(222.15700934579442, 103.77818181818182, 'X[2] <= 10.335\\nentropy = 0.303\\nsamples = 37\\nvalue = [35, 2]'),\n",
              " Text(219.02803738317758, 93.89454545454547, 'entropy = 0.0\\nsamples = 17\\nvalue = [17, 0]'),\n",
              " Text(225.28598130841124, 93.89454545454547, 'X[2] <= 11.0\\nentropy = 0.469\\nsamples = 20\\nvalue = [18, 2]'),\n",
              " Text(219.02803738317758, 84.01090909090911, 'X[1] <= 21.0\\nentropy = 0.918\\nsamples = 3\\nvalue = [2, 1]'),\n",
              " Text(215.89906542056076, 74.12727272727273, 'entropy = 0.0\\nsamples = 1\\nvalue = [0, 1]'),\n",
              " Text(222.15700934579442, 74.12727272727273, 'entropy = 0.0\\nsamples = 2\\nvalue = [2, 0]'),\n",
              " Text(231.54392523364487, 84.01090909090911, 'X[0] <= 2.5\\nentropy = 0.323\\nsamples = 17\\nvalue = [16, 1]'),\n",
              " Text(228.41495327102805, 74.12727272727273, 'entropy = 0.0\\nsamples = 13\\nvalue = [13, 0]'),\n",
              " Text(234.6728971962617, 74.12727272727273, 'X[1] <= 22.0\\nentropy = 0.811\\nsamples = 4\\nvalue = [3, 1]'),\n",
              " Text(231.54392523364487, 64.24363636363637, 'entropy = 0.0\\nsamples = 2\\nvalue = [2, 0]'),\n",
              " Text(237.80186915887853, 64.24363636363637, 'X[3] <= 1.5\\nentropy = 1.0\\nsamples = 2\\nvalue = [1, 1]'),\n",
              " Text(234.6728971962617, 54.360000000000014, 'entropy = 0.0\\nsamples = 1\\nvalue = [0, 1]'),\n",
              " Text(240.93084112149535, 54.360000000000014, 'entropy = 0.0\\nsamples = 1\\nvalue = [1, 0]'),\n",
              " Text(250.31775700934583, 113.66181818181819, 'X[2] <= 8.081\\nentropy = 0.245\\nsamples = 74\\nvalue = [71, 3]'),\n",
              " Text(244.05981308411216, 103.77818181818182, 'X[2] <= 7.24\\nentropy = 0.129\\nsamples = 56\\nvalue = [55, 1]'),\n",
              " Text(240.93084112149535, 93.89454545454547, 'X[2] <= 7.227\\nentropy = 0.391\\nsamples = 13\\nvalue = [12, 1]'),\n",
              " Text(237.80186915887853, 84.01090909090911, 'entropy = 0.0\\nsamples = 7\\nvalue = [7, 0]'),\n",
              " Text(244.05981308411216, 84.01090909090911, 'X[1] <= 28.25\\nentropy = 0.65\\nsamples = 6\\nvalue = [5, 1]'),\n",
              " Text(240.93084112149535, 74.12727272727273, 'entropy = 0.722\\nsamples = 5\\nvalue = [4, 1]'),\n",
              " Text(247.18878504672898, 74.12727272727273, 'entropy = 0.0\\nsamples = 1\\nvalue = [1, 0]'),\n",
              " Text(247.18878504672898, 93.89454545454547, 'entropy = 0.0\\nsamples = 43\\nvalue = [43, 0]'),\n",
              " Text(256.57570093457946, 103.77818181818182, 'X[2] <= 8.285\\nentropy = 0.503\\nsamples = 18\\nvalue = [16, 2]'),\n",
              " Text(253.44672897196264, 93.89454545454547, 'entropy = 0.0\\nsamples = 1\\nvalue = [0, 1]'),\n",
              " Text(259.7046728971963, 93.89454545454547, 'X[7] <= 0.5\\nentropy = 0.323\\nsamples = 17\\nvalue = [16, 1]'),\n",
              " Text(256.57570093457946, 84.01090909090911, 'X[0] <= 2.5\\nentropy = 0.918\\nsamples = 3\\nvalue = [2, 1]'),\n",
              " Text(253.44672897196264, 74.12727272727273, 'entropy = 0.0\\nsamples = 1\\nvalue = [0, 1]'),\n",
              " Text(259.7046728971963, 74.12727272727273, 'entropy = 0.0\\nsamples = 2\\nvalue = [2, 0]'),\n",
              " Text(262.8336448598131, 84.01090909090911, 'entropy = 0.0\\nsamples = 14\\nvalue = [14, 0]'),\n",
              " Text(269.0915887850467, 123.54545454545455, 'X[6] <= 0.5\\nentropy = 0.696\\nsamples = 16\\nvalue = [13, 3]'),\n",
              " Text(265.96261682242994, 113.66181818181819, 'X[2] <= 7.835\\nentropy = 0.567\\nsamples = 15\\nvalue = [13, 2]'),\n",
              " Text(262.8336448598131, 103.77818181818182, 'entropy = 0.0\\nsamples = 5\\nvalue = [5, 0]'),\n",
              " Text(269.0915887850467, 103.77818181818182, 'X[1] <= 29.5\\nentropy = 0.722\\nsamples = 10\\nvalue = [8, 2]'),\n",
              " Text(265.96261682242994, 93.89454545454547, 'entropy = 0.0\\nsamples = 1\\nvalue = [0, 1]'),\n",
              " Text(272.22056074766357, 93.89454545454547, 'X[0] <= 2.5\\nentropy = 0.503\\nsamples = 9\\nvalue = [8, 1]'),\n",
              " Text(269.0915887850467, 84.01090909090911, 'entropy = 0.0\\nsamples = 4\\nvalue = [4, 0]'),\n",
              " Text(275.3495327102804, 84.01090909090911, 'X[2] <= 8.775\\nentropy = 0.722\\nsamples = 5\\nvalue = [4, 1]'),\n",
              " Text(272.22056074766357, 74.12727272727273, 'entropy = 0.0\\nsamples = 4\\nvalue = [4, 0]'),\n",
              " Text(278.4785046728972, 74.12727272727273, 'entropy = 0.0\\nsamples = 1\\nvalue = [0, 1]'),\n",
              " Text(272.22056074766357, 113.66181818181819, 'entropy = 0.0\\nsamples = 1\\nvalue = [0, 1]'),\n",
              " Text(256.57570093457946, 133.42909090909092, 'entropy = 0.0\\nsamples = 1\\nvalue = [0, 1]'),\n",
              " Text(259.7046728971963, 143.31272727272727, 'entropy = 0.0\\nsamples = 17\\nvalue = [17, 0]'),\n",
              " Text(262.8336448598131, 153.19636363636363, 'entropy = 0.0\\nsamples = 1\\nvalue = [0, 1]'),\n",
              " Text(265.96261682242994, 163.07999999999998, 'entropy = 0.0\\nsamples = 20\\nvalue = [20, 0]'),\n",
              " Text(284.73644859813083, 172.96363636363637, 'X[2] <= 7.815\\nentropy = 0.998\\nsamples = 17\\nvalue = [9, 8]'),\n",
              " Text(281.60747663551405, 163.07999999999998, 'entropy = 0.0\\nsamples = 3\\nvalue = [3, 0]'),\n",
              " Text(287.8654205607477, 163.07999999999998, 'X[3] <= 2.5\\nentropy = 0.985\\nsamples = 14\\nvalue = [6, 8]'),\n",
              " Text(284.73644859813083, 153.19636363636363, 'X[2] <= 20.925\\nentropy = 0.918\\nsamples = 12\\nvalue = [4, 8]'),\n",
              " Text(281.60747663551405, 143.31272727272727, 'X[1] <= 31.5\\nentropy = 0.991\\nsamples = 9\\nvalue = [4, 5]'),\n",
              " Text(278.4785046728972, 133.42909090909092, 'entropy = 0.0\\nsamples = 2\\nvalue = [0, 2]'),\n",
              " Text(284.73644859813083, 133.42909090909092, 'X[2] <= 9.275\\nentropy = 0.985\\nsamples = 7\\nvalue = [4, 3]'),\n",
              " Text(281.60747663551405, 123.54545454545455, 'X[2] <= 7.875\\nentropy = 0.971\\nsamples = 5\\nvalue = [2, 3]'),\n",
              " Text(278.4785046728972, 113.66181818181819, 'entropy = 0.0\\nsamples = 1\\nvalue = [0, 1]'),\n",
              " Text(284.73644859813083, 113.66181818181819, 'X[2] <= 7.91\\nentropy = 1.0\\nsamples = 4\\nvalue = [2, 2]'),\n",
              " Text(281.60747663551405, 103.77818181818182, 'entropy = 0.0\\nsamples = 1\\nvalue = [1, 0]'),\n",
              " Text(287.8654205607477, 103.77818181818182, 'X[2] <= 7.988\\nentropy = 0.918\\nsamples = 3\\nvalue = [1, 2]'),\n",
              " Text(284.73644859813083, 93.89454545454547, 'entropy = 1.0\\nsamples = 2\\nvalue = [1, 1]'),\n",
              " Text(290.9943925233645, 93.89454545454547, 'entropy = 0.0\\nsamples = 1\\nvalue = [0, 1]'),\n",
              " Text(287.8654205607477, 123.54545454545455, 'entropy = 0.0\\nsamples = 2\\nvalue = [2, 0]'),\n",
              " Text(287.8654205607477, 143.31272727272727, 'entropy = 0.0\\nsamples = 3\\nvalue = [0, 3]'),\n",
              " Text(290.9943925233645, 153.19636363636363, 'entropy = 0.0\\nsamples = 2\\nvalue = [2, 0]'),\n",
              " Text(308.20373831775703, 182.84727272727272, 'X[2] <= 13.25\\nentropy = 0.317\\nsamples = 87\\nvalue = [82, 5]'),\n",
              " Text(305.0747663551402, 172.96363636363637, 'X[2] <= 7.91\\nentropy = 0.414\\nsamples = 60\\nvalue = [55, 5]'),\n",
              " Text(301.9457943925234, 163.07999999999998, 'entropy = 0.0\\nsamples = 23\\nvalue = [23, 0]'),\n",
              " Text(308.20373831775703, 163.07999999999998, 'X[1] <= 38.5\\nentropy = 0.571\\nsamples = 37\\nvalue = [32, 5]'),\n",
              " Text(297.25233644859816, 153.19636363636363, 'X[2] <= 12.938\\nentropy = 0.337\\nsamples = 16\\nvalue = [15, 1]'),\n",
              " Text(294.1233644859813, 143.31272727272727, 'entropy = 0.0\\nsamples = 12\\nvalue = [12, 0]'),\n",
              " Text(300.38130841121495, 143.31272727272727, 'X[1] <= 35.0\\nentropy = 0.811\\nsamples = 4\\nvalue = [3, 1]'),\n",
              " Text(297.25233644859816, 133.42909090909092, 'entropy = 0.918\\nsamples = 3\\nvalue = [2, 1]'),\n",
              " Text(303.5102803738318, 133.42909090909092, 'entropy = 0.0\\nsamples = 1\\nvalue = [1, 0]'),\n",
              " Text(319.1551401869159, 153.19636363636363, 'X[1] <= 46.0\\nentropy = 0.702\\nsamples = 21\\nvalue = [17, 4]'),\n",
              " Text(312.89719626168227, 143.31272727272727, 'X[1] <= 44.5\\nentropy = 0.881\\nsamples = 10\\nvalue = [7, 3]'),\n",
              " Text(309.7682242990654, 133.42909090909092, 'X[1] <= 42.5\\nentropy = 0.764\\nsamples = 9\\nvalue = [7, 2]'),\n",
              " Text(306.63925233644864, 123.54545454545455, 'X[3] <= 1.5\\nentropy = 0.918\\nsamples = 6\\nvalue = [4, 2]'),\n",
              " Text(303.5102803738318, 113.66181818181819, 'X[0] <= 2.5\\nentropy = 0.971\\nsamples = 5\\nvalue = [3, 2]'),\n",
              " Text(300.38130841121495, 103.77818181818182, 'X[1] <= 40.5\\nentropy = 0.918\\nsamples = 3\\nvalue = [2, 1]'),\n",
              " Text(297.25233644859816, 93.89454545454547, 'entropy = 0.0\\nsamples = 1\\nvalue = [1, 0]'),\n",
              " Text(303.5102803738318, 93.89454545454547, 'entropy = 1.0\\nsamples = 2\\nvalue = [1, 1]'),\n",
              " Text(306.63925233644864, 103.77818181818182, 'entropy = 1.0\\nsamples = 2\\nvalue = [1, 1]'),\n",
              " Text(309.7682242990654, 113.66181818181819, 'entropy = 0.0\\nsamples = 1\\nvalue = [1, 0]'),\n",
              " Text(312.89719626168227, 123.54545454545455, 'entropy = 0.0\\nsamples = 3\\nvalue = [3, 0]'),\n",
              " Text(316.0261682242991, 133.42909090909092, 'entropy = 0.0\\nsamples = 1\\nvalue = [0, 1]'),\n",
              " Text(325.41308411214953, 143.31272727272727, 'X[1] <= 59.5\\nentropy = 0.439\\nsamples = 11\\nvalue = [10, 1]'),\n",
              " Text(322.28411214953275, 133.42909090909092, 'entropy = 0.0\\nsamples = 8\\nvalue = [8, 0]'),\n",
              " Text(328.5420560747664, 133.42909090909092, 'X[1] <= 64.0\\nentropy = 0.918\\nsamples = 3\\nvalue = [2, 1]'),\n",
              " Text(325.41308411214953, 123.54545454545455, 'entropy = 0.0\\nsamples = 1\\nvalue = [0, 1]'),\n",
              " Text(331.6710280373832, 123.54545454545455, 'entropy = 0.0\\nsamples = 2\\nvalue = [2, 0]'),\n",
              " Text(311.3327102803739, 172.96363636363637, 'entropy = 0.0\\nsamples = 27\\nvalue = [27, 0]')]"
            ]
          },
          "metadata": {
            "tags": []
          },
          "execution_count": 57
        },
        {
          "output_type": "display_data",
          "data": {
            "image/png": "[encoded data removed]",
            "text/plain": [
              "<Figure size 432x288 with 1 Axes>"
            ]
          },
          "metadata": {
            "tags": []
          }
        }
      ]
    },
    {
      "cell_type": "markdown",
      "metadata": {
        "id": "vcerDrVvfAdx",
        "colab_type": "text"
      },
      "source": [
        "Using the model for prediction\n"
      ]
    },
    {
      "cell_type": "code",
      "metadata": {
        "id": "sTHNDDmbfAHb",
        "colab_type": "code",
        "colab": {}
      },
      "source": [
        "y_pred_train=model.predict(X_train)"
      ],
      "execution_count": 0,
      "outputs": []
    },
    {
      "cell_type": "code",
      "metadata": {
        "id": "NDRJcAf-fRwF",
        "colab_type": "code",
        "colab": {}
      },
      "source": [
        "y_pred_test=model.predict(X_test)"
      ],
      "execution_count": 0,
      "outputs": []
    },
    {
      "cell_type": "markdown",
      "metadata": {
        "id": "3T6-D9QUh5yP",
        "colab_type": "text"
      },
      "source": [
        "Now lets see model evaluation techniques\n",
        "\n",
        "\n",
        "#Model Evaluation\n",
        "**Error** is the deviation of the values predicted by the model with the true values\n",
        "We will use accuracy_score and confusion_metrics for evaluation"
      ]
    },
    {
      "cell_type": "code",
      "metadata": {
        "id": "ragKWEtCiltM",
        "colab_type": "code",
        "colab": {
          "base_uri": "https://localhost:8080/",
          "height": 34
        },
        "outputId": "dd38db4a-347e-4769-e34e-09cd762ab3cf"
      },
      "source": [
        "from sklearn.metrics import accuracy_score\n",
        "print('Accuracy score for the test data is:',accuracy_score(Y_test,y_pred_test))"
      ],
      "execution_count": 61,
      "outputs": [
        {
          "output_type": "stream",
          "text": [
            "Accuracy score for the test data is: 0.7541899441340782\n"
          ],
          "name": "stdout"
        }
      ]
    },
    {
      "cell_type": "markdown",
      "metadata": {
        "id": "9uv_kCSWkVyh",
        "colab_type": "text"
      },
      "source": [
        "#Model Evaluation using Confusion matrix\n",
        "\n",
        "A **Confusion Matrics** is a **summary** of prediction results on a classification problem.    \n",
        "The number of correct and incorrect predictions are summarized with count values and broken down by each class\n"
      ]
    },
    {
      "cell_type": "code",
      "metadata": {
        "id": "vxUPjIOZkwS4",
        "colab_type": "code",
        "colab": {
          "base_uri": "https://localhost:8080/",
          "height": 68
        },
        "outputId": "91b58f99-28da-4976-e482-fe0c09497608"
      },
      "source": [
        "from sklearn.metrics import confusion_matrix\n",
        "confusion_matrix = pd.DataFrame(confusion_matrix(Y_test,y_pred_test))\n",
        "confusion_matrix.index=['Actual Died','Actual Survived']\n",
        "confusion_matrix.columns=['Predicted Died','Predicted Survived']\n",
        "print(confusion_matrix)"
      ],
      "execution_count": 65,
      "outputs": [
        {
          "output_type": "stream",
          "text": [
            "                 Predicted Died  Predicted Survived\n",
            "Actual Died                  88                  18\n",
            "Actual Survived              26                  47\n"
          ],
          "name": "stdout"
        }
      ]
    },
    {
      "cell_type": "markdown",
      "metadata": {
        "id": "7ElD2f-Bl0vv",
        "colab_type": "text"
      },
      "source": [
        "This means 88+47=135 are correct predictions and 26+18=44 incorrect predictions"
      ]
    },
    {
      "cell_type": "markdown",
      "metadata": {
        "id": "iSjs0TiBmDaB",
        "colab_type": "text"
      },
      "source": [
        "# Decision Tree With Gridsearch\n",
        "Applying GridSearch() method for exhaustive search over specified parameter value of estimator.    \n",
        "Below we will apply GridSearch over the following parameters\n"
      ]
    },
    {
      "cell_type": "code",
      "metadata": {
        "id": "ajxKpBn2lg8g",
        "colab_type": "code",
        "colab": {
          "base_uri": "https://localhost:8080/",
          "height": 323
        },
        "outputId": "3147f791-e825-48de-e79e-ebb37d7fdcdc"
      },
      "source": [
        "from sklearn.tree import DecisionTreeClassifier\n",
        "from sklearn.model_selection import GridSearchCV\n",
        "\n",
        "decision_tree_classifier = DecisionTreeClassifier(random_state=0)\n",
        "\n",
        "\n",
        "tree_para=[{'criterion':['gini','entropy'],\n",
        "            'max_depth':range(2,60),\n",
        "            'max_features':['sqrt','log2',None]}]\n",
        "\n",
        "\n",
        "grid_search=GridSearchCV(decision_tree_classifier,tree_para,cv=10,refit='AUC')\n",
        "grid_search.fit(X_train,Y_train)"
      ],
      "execution_count": 68,
      "outputs": [
        {
          "output_type": "execute_result",
          "data": {
            "text/plain": [
              "GridSearchCV(cv=10, error_score=nan,\n",
              "             estimator=DecisionTreeClassifier(ccp_alpha=0.0, class_weight=None,\n",
              "                                              criterion='gini', max_depth=None,\n",
              "                                              max_features=None,\n",
              "                                              max_leaf_nodes=None,\n",
              "                                              min_impurity_decrease=0.0,\n",
              "                                              min_impurity_split=None,\n",
              "                                              min_samples_leaf=1,\n",
              "                                              min_samples_split=2,\n",
              "                                              min_weight_fraction_leaf=0.0,\n",
              "                                              presort='deprecated',\n",
              "                                              random_state=0, splitter='best'),\n",
              "             iid='deprecated', n_jobs=None,\n",
              "             param_grid=[{'criterion': ['gini', 'entropy'],\n",
              "                          'max_depth': range(2, 60),\n",
              "                          'max_features': ['sqrt', 'log2', None]}],\n",
              "             pre_dispatch='2*n_jobs', refit='AUC', return_train_score=False,\n",
              "             scoring=None, verbose=0)"
            ]
          },
          "metadata": {
            "tags": []
          },
          "execution_count": 68
        }
      ]
    },
    {
      "cell_type": "code",
      "metadata": {
        "id": "C62WN7v4p4rw",
        "colab_type": "code",
        "colab": {
          "base_uri": "https://localhost:8080/",
          "height": 119
        },
        "outputId": "d2f237bf-78de-4e72-d90e-bd7e72132dc7"
      },
      "source": [
        "grid_search.best_estimator_"
      ],
      "execution_count": 69,
      "outputs": [
        {
          "output_type": "execute_result",
          "data": {
            "text/plain": [
              "DecisionTreeClassifier(ccp_alpha=0.0, class_weight=None, criterion='gini',\n",
              "                       max_depth=6, max_features='log2', max_leaf_nodes=None,\n",
              "                       min_impurity_decrease=0.0, min_impurity_split=None,\n",
              "                       min_samples_leaf=1, min_samples_split=2,\n",
              "                       min_weight_fraction_leaf=0.0, presort='deprecated',\n",
              "                       random_state=0, splitter='best')"
            ]
          },
          "metadata": {
            "tags": []
          },
          "execution_count": 69
        }
      ]
    },
    {
      "cell_type": "markdown",
      "metadata": {
        "id": "tfPZXF0iqDAQ",
        "colab_type": "text"
      },
      "source": [
        "- Using Model for prediction"
      ]
    },
    {
      "cell_type": "code",
      "metadata": {
        "id": "Oxw5a8-np_qm",
        "colab_type": "code",
        "colab": {}
      },
      "source": [
        "y_pred_test1=grid_search.predict(X_test)"
      ],
      "execution_count": 0,
      "outputs": []
    },
    {
      "cell_type": "markdown",
      "metadata": {
        "id": "LBLlq6Izqn_Z",
        "colab_type": "text"
      },
      "source": [
        "- Model Evaluation and Prediction"
      ]
    },
    {
      "cell_type": "code",
      "metadata": {
        "id": "TqATwBVVqmHo",
        "colab_type": "code",
        "colab": {
          "base_uri": "https://localhost:8080/",
          "height": 34
        },
        "outputId": "ccca6039-72b1-42a4-f804-300d81cf564f"
      },
      "source": [
        "from sklearn.metrics import accuracy_score\n",
        "print('Accuracy_score',accuracy_score(Y_test,y_pred_test1))"
      ],
      "execution_count": 74,
      "outputs": [
        {
          "output_type": "stream",
          "text": [
            "Accuracy_score 0.7877094972067039\n"
          ],
          "name": "stdout"
        }
      ]
    },
    {
      "cell_type": "code",
      "metadata": {
        "id": "6WFhS34jrJ9P",
        "colab_type": "code",
        "colab": {
          "base_uri": "https://localhost:8080/",
          "height": 68
        },
        "outputId": "e3a22db9-893f-40b9-c0fc-0623e8c25605"
      },
      "source": [
        "from sklearn.metrics import confusion_matrix\n",
        "confusion_matrix=pd.DataFrame(confusion_matrix(Y_test,y_pred_test1))\n",
        "confusion_matrix.index=['Actual Died','Actual Survived']\n",
        "confusion_matrix.columns=['Predicted Died','Predicted Survived']\n",
        "\n",
        "print(confusion_matrix)"
      ],
      "execution_count": 76,
      "outputs": [
        {
          "output_type": "stream",
          "text": [
            "                 Predicted Died  Predicted Survived\n",
            "Actual Died                  98                   8\n",
            "Actual Survived              30                  43\n"
          ],
          "name": "stdout"
        }
      ]
    }
  ]
}