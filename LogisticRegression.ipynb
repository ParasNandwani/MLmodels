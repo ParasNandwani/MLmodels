{
  "nbformat": 4,
  "nbformat_minor": 0,
  "metadata": {
    "colab": {
      "name": "LogisticRegression.ipynb",
      "provenance": [],
      "collapsed_sections": [],
      "include_colab_link": true
    },
    "kernelspec": {
      "name": "python3",
      "display_name": "Python 3"
    }
  },
  "cells": [
    {
      "cell_type": "markdown",
      "metadata": {
        "id": "view-in-github",
        "colab_type": "text"
      },
      "source": [
        "<a href=\"https://colab.research.google.com/github/ParasNandwani/MLmodels/blob/master/LogisticRegression.ipynb\" target=\"_parent\"><img src=\"https://colab.research.google.com/assets/colab-badge.svg\" alt=\"Open In Colab\"/></a>"
      ]
    },
    {
      "cell_type": "markdown",
      "metadata": {
        "id": "OxRV6HEakC4Z",
        "colab_type": "text"
      },
      "source": [
        "# Problem Statement \n",
        "The goal is to **Predict SUrvival** of passengers travelling in **TITANIC** using Logistic Regression"
      ]
    },
    {
      "cell_type": "markdown",
      "metadata": {
        "id": "19H2A-lRN1uR",
        "colab_type": "text"
      },
      "source": [
        "## Importing Packages"
      ]
    },
    {
      "cell_type": "code",
      "metadata": {
        "id": "mW1IjLphNkCr",
        "colab_type": "code",
        "colab": {}
      },
      "source": [
        "import numpy as np                                                 # Implemennts milti-dimensional array and matrices\n",
        "import pandas as pd                                                # For data manipulation and analysis\n",
        "import pandas_profiling\n",
        "import matplotlib.pyplot as plt                                    # Plotting library for Python programming language and it's numerical mathematics extension NumPy\n",
        "import seaborn as sns                                              # Provides a high level interface for drawing attractive and informative statistical graphics\n",
        "%matplotlib inline\n",
        "sns.set()\n",
        "\n",
        "from subprocess import check_output\n",
        "\n",
        "import warnings\n",
        "warnings.simplefilter('ignore')"
      ],
      "execution_count": 0,
      "outputs": []
    },
    {
      "cell_type": "code",
      "metadata": {
        "id": "ClqtqPEClG4U",
        "colab_type": "code",
        "colab": {
          "base_uri": "https://localhost:8080/",
          "height": 54
        },
        "outputId": "adbd4960-4486-4155-890f-6b3daf1690bc"
      },
      "source": [
        "\"\"\"\n",
        "EDA\n",
        "\n",
        "Distribution Analysis\n",
        "Multi Variable Analysis\n",
        "Correlation Analysis\n",
        "\n",
        "Pre Modelling\n",
        " # Feature Selection\n",
        " # Feature Engineering\n",
        " # Feature Scalling\n",
        " # Feature Balancing\n",
        "\n",
        "Post Modelling\n",
        "\n",
        "Model Inference\n",
        " \n",
        "Model Selection\n",
        "\n",
        "Model interpretation\n",
        "\n",
        "\n",
        "\"\"\""
      ],
      "execution_count": 4,
      "outputs": [
        {
          "output_type": "execute_result",
          "data": {
            "text/plain": [
              "'\\nEDA\\n\\nDistribution Analysis\\nMulti Variable Analysis\\nCorrelation Analysis\\n\\nPre Modelling\\n # Feature Selection\\n # Feature Engineering\\n # Feature Scalling\\n # Feature Balancing\\n\\nPost Modelling\\n\\nModel Inference\\n \\nModel Selection\\n\\nModel interpretation\\n\\n\\n'"
            ]
          },
          "metadata": {
            "tags": []
          },
          "execution_count": 4
        }
      ]
    },
    {
      "cell_type": "markdown",
      "metadata": {
        "id": "KWsrAXZ7N6tC",
        "colab_type": "text"
      },
      "source": [
        "## Importing Dataset"
      ]
    },
    {
      "cell_type": "code",
      "metadata": {
        "id": "iXfiqXLRN92B",
        "colab_type": "code",
        "colab": {}
      },
      "source": [
        "titanic_data = pd.read_csv(\"https://raw.githubusercontent.com/insaid2018/Term-1/master/Data/Casestudy/titanic_train.csv\")"
      ],
      "execution_count": 0,
      "outputs": []
    },
    {
      "cell_type": "code",
      "metadata": {
        "id": "xY9ZPj3KN-5I",
        "colab_type": "code",
        "outputId": "b9841203-7f2a-41d5-c162-1fe99fae8938",
        "colab": {
          "base_uri": "https://localhost:8080/",
          "height": 204
        }
      },
      "source": [
        "titanic_data.head()"
      ],
      "execution_count": 51,
      "outputs": [
        {
          "output_type": "execute_result",
          "data": {
            "text/html": [
              "<div>\n",
              "<style scoped>\n",
              "    .dataframe tbody tr th:only-of-type {\n",
              "        vertical-align: middle;\n",
              "    }\n",
              "\n",
              "    .dataframe tbody tr th {\n",
              "        vertical-align: top;\n",
              "    }\n",
              "\n",
              "    .dataframe thead th {\n",
              "        text-align: right;\n",
              "    }\n",
              "</style>\n",
              "<table border=\"1\" class=\"dataframe\">\n",
              "  <thead>\n",
              "    <tr style=\"text-align: right;\">\n",
              "      <th></th>\n",
              "      <th>PassengerId</th>\n",
              "      <th>Survived</th>\n",
              "      <th>Pclass</th>\n",
              "      <th>Name</th>\n",
              "      <th>Sex</th>\n",
              "      <th>Age</th>\n",
              "      <th>SibSp</th>\n",
              "      <th>Parch</th>\n",
              "      <th>Ticket</th>\n",
              "      <th>Fare</th>\n",
              "      <th>Cabin</th>\n",
              "      <th>Embarked</th>\n",
              "    </tr>\n",
              "  </thead>\n",
              "  <tbody>\n",
              "    <tr>\n",
              "      <th>0</th>\n",
              "      <td>1</td>\n",
              "      <td>0</td>\n",
              "      <td>3</td>\n",
              "      <td>Braund, Mr. Owen Harris</td>\n",
              "      <td>male</td>\n",
              "      <td>22.0</td>\n",
              "      <td>1</td>\n",
              "      <td>0</td>\n",
              "      <td>A/5 21171</td>\n",
              "      <td>7.2500</td>\n",
              "      <td>NaN</td>\n",
              "      <td>S</td>\n",
              "    </tr>\n",
              "    <tr>\n",
              "      <th>1</th>\n",
              "      <td>2</td>\n",
              "      <td>1</td>\n",
              "      <td>1</td>\n",
              "      <td>Cumings, Mrs. John Bradley (Florence Briggs Th...</td>\n",
              "      <td>female</td>\n",
              "      <td>38.0</td>\n",
              "      <td>1</td>\n",
              "      <td>0</td>\n",
              "      <td>PC 17599</td>\n",
              "      <td>71.2833</td>\n",
              "      <td>C85</td>\n",
              "      <td>C</td>\n",
              "    </tr>\n",
              "    <tr>\n",
              "      <th>2</th>\n",
              "      <td>3</td>\n",
              "      <td>1</td>\n",
              "      <td>3</td>\n",
              "      <td>Heikkinen, Miss. Laina</td>\n",
              "      <td>female</td>\n",
              "      <td>26.0</td>\n",
              "      <td>0</td>\n",
              "      <td>0</td>\n",
              "      <td>STON/O2. 3101282</td>\n",
              "      <td>7.9250</td>\n",
              "      <td>NaN</td>\n",
              "      <td>S</td>\n",
              "    </tr>\n",
              "    <tr>\n",
              "      <th>3</th>\n",
              "      <td>4</td>\n",
              "      <td>1</td>\n",
              "      <td>1</td>\n",
              "      <td>Futrelle, Mrs. Jacques Heath (Lily May Peel)</td>\n",
              "      <td>female</td>\n",
              "      <td>35.0</td>\n",
              "      <td>1</td>\n",
              "      <td>0</td>\n",
              "      <td>113803</td>\n",
              "      <td>53.1000</td>\n",
              "      <td>C123</td>\n",
              "      <td>S</td>\n",
              "    </tr>\n",
              "    <tr>\n",
              "      <th>4</th>\n",
              "      <td>5</td>\n",
              "      <td>0</td>\n",
              "      <td>3</td>\n",
              "      <td>Allen, Mr. William Henry</td>\n",
              "      <td>male</td>\n",
              "      <td>35.0</td>\n",
              "      <td>0</td>\n",
              "      <td>0</td>\n",
              "      <td>373450</td>\n",
              "      <td>8.0500</td>\n",
              "      <td>NaN</td>\n",
              "      <td>S</td>\n",
              "    </tr>\n",
              "  </tbody>\n",
              "</table>\n",
              "</div>"
            ],
            "text/plain": [
              "   PassengerId  Survived  Pclass  ...     Fare Cabin  Embarked\n",
              "0            1         0       3  ...   7.2500   NaN         S\n",
              "1            2         1       1  ...  71.2833   C85         C\n",
              "2            3         1       3  ...   7.9250   NaN         S\n",
              "3            4         1       1  ...  53.1000  C123         S\n",
              "4            5         0       3  ...   8.0500   NaN         S\n",
              "\n",
              "[5 rows x 12 columns]"
            ]
          },
          "metadata": {
            "tags": []
          },
          "execution_count": 51
        }
      ]
    },
    {
      "cell_type": "markdown",
      "metadata": {
        "id": "Br4y-h-MOH9R",
        "colab_type": "text"
      },
      "source": [
        "# what we have to predict --> Survived Column (Class) --> 0(didn't survive), 1(survived), Categorical Prediction -> Classification "
      ]
    },
    {
      "cell_type": "markdown",
      "metadata": {
        "id": "QN3-G6lml3VD",
        "colab_type": "text"
      },
      "source": [
        "#Processing The Data\n",
        "- Dealing with missing values\n",
        " - Dropping/Replacing missing enteries of **Embarked**\n",
        " - Replacing missing values of Age and Fare with median values\n",
        " - Dropping the column 'Cabin' as it has too many null values.\n",
        " "
      ]
    },
    {
      "cell_type": "code",
      "metadata": {
        "id": "hU0ou2DXOB4l",
        "colab_type": "code",
        "outputId": "322f5575-8d0e-4a6a-9ffb-af254e0b7d58",
        "colab": {
          "base_uri": "https://localhost:8080/",
          "height": 306
        }
      },
      "source": [
        "titanic_data.info()"
      ],
      "execution_count": 52,
      "outputs": [
        {
          "output_type": "stream",
          "text": [
            "<class 'pandas.core.frame.DataFrame'>\n",
            "RangeIndex: 891 entries, 0 to 890\n",
            "Data columns (total 12 columns):\n",
            "PassengerId    891 non-null int64\n",
            "Survived       891 non-null int64\n",
            "Pclass         891 non-null int64\n",
            "Name           891 non-null object\n",
            "Sex            891 non-null object\n",
            "Age            714 non-null float64\n",
            "SibSp          891 non-null int64\n",
            "Parch          891 non-null int64\n",
            "Ticket         891 non-null object\n",
            "Fare           891 non-null float64\n",
            "Cabin          204 non-null object\n",
            "Embarked       889 non-null object\n",
            "dtypes: float64(2), int64(5), object(5)\n",
            "memory usage: 83.7+ KB\n"
          ],
          "name": "stdout"
        }
      ]
    },
    {
      "cell_type": "code",
      "metadata": {
        "id": "kNzZyuwemnoq",
        "colab_type": "code",
        "colab": {
          "base_uri": "https://localhost:8080/",
          "height": 130
        },
        "outputId": "69d3778c-0419-47e8-a40e-5d4076bd0f96"
      },
      "source": [
        "----Missing Values-----\n",
        "-- Drop Cabin(Drop if we have more than 40-60 % Null/Empty values)\n",
        "-- Impute Age(Numericl Value/Discrete/Numericasl)\n",
        "   1. -- Statistical Measure :Mean-Median-(We normalize the row)\n",
        "        --Global Statisctical View(Stats Measure)\n",
        "   2. -- Give empty values -0 to -99  same standard range values. # Creating new values we are creating bias(we'll consoder this as bias)\n",
        "   3. -- Model driven prediction for Missing Values\n",
        "        -- Local Statistical View(Model Driven Approach)\n",
        "          --Linear Regression\n",
        "          --KNN\n",
        "          --Tree Based Methods\n",
        "    4. --Local Median/Mean\n",
        "        -- Based on selected columns\n",
        "           -- Challange is to how many columns to select\n",
        "        -- Better is to run model and get predictions\n",
        "-- Impute Embarked(Catagorical/Non Ordinal)\n",
        "  -- Statistical Measure:Mode High Frequent\n",
        "  -- Give empty values new category i.e \"NA Cat\",\"No Cat\"\n",
        "  -- Model Way: Run classification model to predict value \n",
        "  -- Local Mode:-select column to get most frequent\n",
        "As an eperiment we should pick strategies which one are good"
      ],
      "execution_count": 9,
      "outputs": [
        {
          "output_type": "error",
          "ename": "SyntaxError",
          "evalue": "ignored",
          "traceback": [
            "\u001b[0;36m  File \u001b[0;32m\"<ipython-input-9-dbb9b2e1ee6a>\"\u001b[0;36m, line \u001b[0;32m1\u001b[0m\n\u001b[0;31m    ----Missing Values-----\u001b[0m\n\u001b[0m                     ^\u001b[0m\n\u001b[0;31mSyntaxError\u001b[0m\u001b[0;31m:\u001b[0m invalid syntax\n"
          ]
        }
      ]
    },
    {
      "cell_type": "code",
      "metadata": {
        "id": "KnARUraxOTFZ",
        "colab_type": "code",
        "colab": {}
      },
      "source": [
        "titanic_data.Embarked.fillna(titanic_data['Embarked'].mode()[0],inplace=True)"
      ],
      "execution_count": 0,
      "outputs": []
    },
    {
      "cell_type": "code",
      "metadata": {
        "id": "g91UoABpOgnJ",
        "colab_type": "code",
        "outputId": "1de169d8-70ab-4816-d0dc-02ca97479c6b",
        "colab": {
          "base_uri": "https://localhost:8080/",
          "height": 306
        }
      },
      "source": [
        "titanic_data.info()"
      ],
      "execution_count": 54,
      "outputs": [
        {
          "output_type": "stream",
          "text": [
            "<class 'pandas.core.frame.DataFrame'>\n",
            "RangeIndex: 891 entries, 0 to 890\n",
            "Data columns (total 12 columns):\n",
            "PassengerId    891 non-null int64\n",
            "Survived       891 non-null int64\n",
            "Pclass         891 non-null int64\n",
            "Name           891 non-null object\n",
            "Sex            891 non-null object\n",
            "Age            714 non-null float64\n",
            "SibSp          891 non-null int64\n",
            "Parch          891 non-null int64\n",
            "Ticket         891 non-null object\n",
            "Fare           891 non-null float64\n",
            "Cabin          204 non-null object\n",
            "Embarked       891 non-null object\n",
            "dtypes: float64(2), int64(5), object(5)\n",
            "memory usage: 83.7+ KB\n"
          ],
          "name": "stdout"
        }
      ]
    },
    {
      "cell_type": "code",
      "metadata": {
        "id": "ug1xNH4HOj9o",
        "colab_type": "code",
        "colab": {}
      },
      "source": [
        "median_age = titanic_data.Age.median()\n",
        "titanic_data.Age.fillna(median_age,inplace=True)"
      ],
      "execution_count": 0,
      "outputs": []
    },
    {
      "cell_type": "code",
      "metadata": {
        "id": "M5TnkqpQOyRz",
        "colab_type": "code",
        "colab": {}
      },
      "source": [
        "titanic_data.drop('Cabin',axis=1,inplace=True)"
      ],
      "execution_count": 0,
      "outputs": []
    },
    {
      "cell_type": "code",
      "metadata": {
        "id": "S-AkXGd0PC7x",
        "colab_type": "code",
        "outputId": "21aa8348-3d46-45ee-cca3-3cf6e9a5a232",
        "colab": {
          "base_uri": "https://localhost:8080/",
          "height": 289
        }
      },
      "source": [
        "titanic_data.info()"
      ],
      "execution_count": 57,
      "outputs": [
        {
          "output_type": "stream",
          "text": [
            "<class 'pandas.core.frame.DataFrame'>\n",
            "RangeIndex: 891 entries, 0 to 890\n",
            "Data columns (total 11 columns):\n",
            "PassengerId    891 non-null int64\n",
            "Survived       891 non-null int64\n",
            "Pclass         891 non-null int64\n",
            "Name           891 non-null object\n",
            "Sex            891 non-null object\n",
            "Age            891 non-null float64\n",
            "SibSp          891 non-null int64\n",
            "Parch          891 non-null int64\n",
            "Ticket         891 non-null object\n",
            "Fare           891 non-null float64\n",
            "Embarked       891 non-null object\n",
            "dtypes: float64(2), int64(5), object(4)\n",
            "memory usage: 76.7+ KB\n"
          ],
          "name": "stdout"
        }
      ]
    },
    {
      "cell_type": "code",
      "metadata": {
        "id": "7QbTpgwwPGP3",
        "colab_type": "code",
        "colab": {}
      },
      "source": [
        "# Feature Engineering:CREATE NEW COLUMN OUT OF EXISTING DATA\n",
        "\n",
        "\n",
        "## dummy anf catagorical encoding are not feature engineering\n",
        "## If we have derived value from particular column,make sure to to drop original column\n",
        "\n",
        "#family size\n",
        "titanic_data['FamilySize'] = titanic_data['SibSp'] + titanic_data['Parch']+1\n",
        "\n",
        "#accompany\n",
        "titanic_data['accompany'] = titanic_data['SibSp'] + titanic_data['Parch']\n"
      ],
      "execution_count": 0,
      "outputs": []
    },
    {
      "cell_type": "code",
      "metadata": {
        "id": "KsZtmawl9gXQ",
        "colab_type": "code",
        "outputId": "dcf5d72a-f33d-4dfa-8a7c-2a39657c8561",
        "colab": {
          "base_uri": "https://localhost:8080/",
          "height": 323
        }
      },
      "source": [
        "titanic_data.info()"
      ],
      "execution_count": 59,
      "outputs": [
        {
          "output_type": "stream",
          "text": [
            "<class 'pandas.core.frame.DataFrame'>\n",
            "RangeIndex: 891 entries, 0 to 890\n",
            "Data columns (total 13 columns):\n",
            "PassengerId    891 non-null int64\n",
            "Survived       891 non-null int64\n",
            "Pclass         891 non-null int64\n",
            "Name           891 non-null object\n",
            "Sex            891 non-null object\n",
            "Age            891 non-null float64\n",
            "SibSp          891 non-null int64\n",
            "Parch          891 non-null int64\n",
            "Ticket         891 non-null object\n",
            "Fare           891 non-null float64\n",
            "Embarked       891 non-null object\n",
            "FamilySize     891 non-null int64\n",
            "accompany      891 non-null int64\n",
            "dtypes: float64(2), int64(7), object(4)\n",
            "memory usage: 90.6+ KB\n"
          ],
          "name": "stdout"
        }
      ]
    },
    {
      "cell_type": "code",
      "metadata": {
        "id": "KgUWSJH29tuu",
        "colab_type": "code",
        "colab": {}
      },
      "source": [
        "titanic_data['GenderClass'] = titanic_data.apply(lambda x: 'child' if x['Age'] < 15 else x['Sex'],axis=1) "
      ],
      "execution_count": 0,
      "outputs": []
    },
    {
      "cell_type": "code",
      "metadata": {
        "id": "9vs6MQkZwHgc",
        "colab_type": "code",
        "outputId": "b8609830-490f-4869-f6e2-04e7075a0a4f",
        "colab": {
          "base_uri": "https://localhost:8080/",
          "height": 272
        }
      },
      "source": [
        "titanic_data[titanic_data.Age<15].head(5)"
      ],
      "execution_count": 61,
      "outputs": [
        {
          "output_type": "execute_result",
          "data": {
            "text/html": [
              "<div>\n",
              "<style scoped>\n",
              "    .dataframe tbody tr th:only-of-type {\n",
              "        vertical-align: middle;\n",
              "    }\n",
              "\n",
              "    .dataframe tbody tr th {\n",
              "        vertical-align: top;\n",
              "    }\n",
              "\n",
              "    .dataframe thead th {\n",
              "        text-align: right;\n",
              "    }\n",
              "</style>\n",
              "<table border=\"1\" class=\"dataframe\">\n",
              "  <thead>\n",
              "    <tr style=\"text-align: right;\">\n",
              "      <th></th>\n",
              "      <th>PassengerId</th>\n",
              "      <th>Survived</th>\n",
              "      <th>Pclass</th>\n",
              "      <th>Name</th>\n",
              "      <th>Sex</th>\n",
              "      <th>Age</th>\n",
              "      <th>SibSp</th>\n",
              "      <th>Parch</th>\n",
              "      <th>Ticket</th>\n",
              "      <th>Fare</th>\n",
              "      <th>Embarked</th>\n",
              "      <th>FamilySize</th>\n",
              "      <th>accompany</th>\n",
              "      <th>GenderClass</th>\n",
              "    </tr>\n",
              "  </thead>\n",
              "  <tbody>\n",
              "    <tr>\n",
              "      <th>7</th>\n",
              "      <td>8</td>\n",
              "      <td>0</td>\n",
              "      <td>3</td>\n",
              "      <td>Palsson, Master. Gosta Leonard</td>\n",
              "      <td>male</td>\n",
              "      <td>2.0</td>\n",
              "      <td>3</td>\n",
              "      <td>1</td>\n",
              "      <td>349909</td>\n",
              "      <td>21.0750</td>\n",
              "      <td>S</td>\n",
              "      <td>5</td>\n",
              "      <td>4</td>\n",
              "      <td>child</td>\n",
              "    </tr>\n",
              "    <tr>\n",
              "      <th>9</th>\n",
              "      <td>10</td>\n",
              "      <td>1</td>\n",
              "      <td>2</td>\n",
              "      <td>Nasser, Mrs. Nicholas (Adele Achem)</td>\n",
              "      <td>female</td>\n",
              "      <td>14.0</td>\n",
              "      <td>1</td>\n",
              "      <td>0</td>\n",
              "      <td>237736</td>\n",
              "      <td>30.0708</td>\n",
              "      <td>C</td>\n",
              "      <td>2</td>\n",
              "      <td>1</td>\n",
              "      <td>child</td>\n",
              "    </tr>\n",
              "    <tr>\n",
              "      <th>10</th>\n",
              "      <td>11</td>\n",
              "      <td>1</td>\n",
              "      <td>3</td>\n",
              "      <td>Sandstrom, Miss. Marguerite Rut</td>\n",
              "      <td>female</td>\n",
              "      <td>4.0</td>\n",
              "      <td>1</td>\n",
              "      <td>1</td>\n",
              "      <td>PP 9549</td>\n",
              "      <td>16.7000</td>\n",
              "      <td>S</td>\n",
              "      <td>3</td>\n",
              "      <td>2</td>\n",
              "      <td>child</td>\n",
              "    </tr>\n",
              "    <tr>\n",
              "      <th>14</th>\n",
              "      <td>15</td>\n",
              "      <td>0</td>\n",
              "      <td>3</td>\n",
              "      <td>Vestrom, Miss. Hulda Amanda Adolfina</td>\n",
              "      <td>female</td>\n",
              "      <td>14.0</td>\n",
              "      <td>0</td>\n",
              "      <td>0</td>\n",
              "      <td>350406</td>\n",
              "      <td>7.8542</td>\n",
              "      <td>S</td>\n",
              "      <td>1</td>\n",
              "      <td>0</td>\n",
              "      <td>child</td>\n",
              "    </tr>\n",
              "    <tr>\n",
              "      <th>16</th>\n",
              "      <td>17</td>\n",
              "      <td>0</td>\n",
              "      <td>3</td>\n",
              "      <td>Rice, Master. Eugene</td>\n",
              "      <td>male</td>\n",
              "      <td>2.0</td>\n",
              "      <td>4</td>\n",
              "      <td>1</td>\n",
              "      <td>382652</td>\n",
              "      <td>29.1250</td>\n",
              "      <td>Q</td>\n",
              "      <td>6</td>\n",
              "      <td>5</td>\n",
              "      <td>child</td>\n",
              "    </tr>\n",
              "  </tbody>\n",
              "</table>\n",
              "</div>"
            ],
            "text/plain": [
              "    PassengerId  Survived  Pclass  ... FamilySize accompany  GenderClass\n",
              "7             8         0       3  ...          5         4        child\n",
              "9            10         1       2  ...          2         1        child\n",
              "10           11         1       3  ...          3         2        child\n",
              "14           15         0       3  ...          1         0        child\n",
              "16           17         0       3  ...          6         5        child\n",
              "\n",
              "[5 rows x 14 columns]"
            ]
          },
          "metadata": {
            "tags": []
          },
          "execution_count": 61
        }
      ]
    },
    {
      "cell_type": "code",
      "metadata": {
        "id": "YxhduVS6wNM_",
        "colab_type": "code",
        "outputId": "152cc094-43ac-42ea-f58a-fe90ff7c92cb",
        "colab": {
          "base_uri": "https://localhost:8080/",
          "height": 272
        }
      },
      "source": [
        "titanic_data[titanic_data.Age>15].head(5)"
      ],
      "execution_count": 62,
      "outputs": [
        {
          "output_type": "execute_result",
          "data": {
            "text/html": [
              "<div>\n",
              "<style scoped>\n",
              "    .dataframe tbody tr th:only-of-type {\n",
              "        vertical-align: middle;\n",
              "    }\n",
              "\n",
              "    .dataframe tbody tr th {\n",
              "        vertical-align: top;\n",
              "    }\n",
              "\n",
              "    .dataframe thead th {\n",
              "        text-align: right;\n",
              "    }\n",
              "</style>\n",
              "<table border=\"1\" class=\"dataframe\">\n",
              "  <thead>\n",
              "    <tr style=\"text-align: right;\">\n",
              "      <th></th>\n",
              "      <th>PassengerId</th>\n",
              "      <th>Survived</th>\n",
              "      <th>Pclass</th>\n",
              "      <th>Name</th>\n",
              "      <th>Sex</th>\n",
              "      <th>Age</th>\n",
              "      <th>SibSp</th>\n",
              "      <th>Parch</th>\n",
              "      <th>Ticket</th>\n",
              "      <th>Fare</th>\n",
              "      <th>Embarked</th>\n",
              "      <th>FamilySize</th>\n",
              "      <th>accompany</th>\n",
              "      <th>GenderClass</th>\n",
              "    </tr>\n",
              "  </thead>\n",
              "  <tbody>\n",
              "    <tr>\n",
              "      <th>0</th>\n",
              "      <td>1</td>\n",
              "      <td>0</td>\n",
              "      <td>3</td>\n",
              "      <td>Braund, Mr. Owen Harris</td>\n",
              "      <td>male</td>\n",
              "      <td>22.0</td>\n",
              "      <td>1</td>\n",
              "      <td>0</td>\n",
              "      <td>A/5 21171</td>\n",
              "      <td>7.2500</td>\n",
              "      <td>S</td>\n",
              "      <td>2</td>\n",
              "      <td>1</td>\n",
              "      <td>male</td>\n",
              "    </tr>\n",
              "    <tr>\n",
              "      <th>1</th>\n",
              "      <td>2</td>\n",
              "      <td>1</td>\n",
              "      <td>1</td>\n",
              "      <td>Cumings, Mrs. John Bradley (Florence Briggs Th...</td>\n",
              "      <td>female</td>\n",
              "      <td>38.0</td>\n",
              "      <td>1</td>\n",
              "      <td>0</td>\n",
              "      <td>PC 17599</td>\n",
              "      <td>71.2833</td>\n",
              "      <td>C</td>\n",
              "      <td>2</td>\n",
              "      <td>1</td>\n",
              "      <td>female</td>\n",
              "    </tr>\n",
              "    <tr>\n",
              "      <th>2</th>\n",
              "      <td>3</td>\n",
              "      <td>1</td>\n",
              "      <td>3</td>\n",
              "      <td>Heikkinen, Miss. Laina</td>\n",
              "      <td>female</td>\n",
              "      <td>26.0</td>\n",
              "      <td>0</td>\n",
              "      <td>0</td>\n",
              "      <td>STON/O2. 3101282</td>\n",
              "      <td>7.9250</td>\n",
              "      <td>S</td>\n",
              "      <td>1</td>\n",
              "      <td>0</td>\n",
              "      <td>female</td>\n",
              "    </tr>\n",
              "    <tr>\n",
              "      <th>3</th>\n",
              "      <td>4</td>\n",
              "      <td>1</td>\n",
              "      <td>1</td>\n",
              "      <td>Futrelle, Mrs. Jacques Heath (Lily May Peel)</td>\n",
              "      <td>female</td>\n",
              "      <td>35.0</td>\n",
              "      <td>1</td>\n",
              "      <td>0</td>\n",
              "      <td>113803</td>\n",
              "      <td>53.1000</td>\n",
              "      <td>S</td>\n",
              "      <td>2</td>\n",
              "      <td>1</td>\n",
              "      <td>female</td>\n",
              "    </tr>\n",
              "    <tr>\n",
              "      <th>4</th>\n",
              "      <td>5</td>\n",
              "      <td>0</td>\n",
              "      <td>3</td>\n",
              "      <td>Allen, Mr. William Henry</td>\n",
              "      <td>male</td>\n",
              "      <td>35.0</td>\n",
              "      <td>0</td>\n",
              "      <td>0</td>\n",
              "      <td>373450</td>\n",
              "      <td>8.0500</td>\n",
              "      <td>S</td>\n",
              "      <td>1</td>\n",
              "      <td>0</td>\n",
              "      <td>male</td>\n",
              "    </tr>\n",
              "  </tbody>\n",
              "</table>\n",
              "</div>"
            ],
            "text/plain": [
              "   PassengerId  Survived  Pclass  ... FamilySize accompany  GenderClass\n",
              "0            1         0       3  ...          2         1         male\n",
              "1            2         1       1  ...          2         1       female\n",
              "2            3         1       3  ...          1         0       female\n",
              "3            4         1       1  ...          2         1       female\n",
              "4            5         0       3  ...          1         0         male\n",
              "\n",
              "[5 rows x 14 columns]"
            ]
          },
          "metadata": {
            "tags": []
          },
          "execution_count": 62
        }
      ]
    },
    {
      "cell_type": "markdown",
      "metadata": {
        "id": "dDNgVRDQwbod",
        "colab_type": "text"
      },
      "source": [
        "### Dropping columns"
      ]
    },
    {
      "cell_type": "code",
      "metadata": {
        "id": "8BtgYEKfwSIo",
        "colab_type": "code",
        "outputId": "9423de22-605e-45e6-dc78-660d210dccb1",
        "colab": {
          "base_uri": "https://localhost:8080/",
          "height": 204
        }
      },
      "source": [
        "titanic = titanic_data.drop(['Name','Ticket','Sex','SibSp','Parch', 'PassengerId'], axis = 1)\n",
        "titanic.head()"
      ],
      "execution_count": 63,
      "outputs": [
        {
          "output_type": "execute_result",
          "data": {
            "text/html": [
              "<div>\n",
              "<style scoped>\n",
              "    .dataframe tbody tr th:only-of-type {\n",
              "        vertical-align: middle;\n",
              "    }\n",
              "\n",
              "    .dataframe tbody tr th {\n",
              "        vertical-align: top;\n",
              "    }\n",
              "\n",
              "    .dataframe thead th {\n",
              "        text-align: right;\n",
              "    }\n",
              "</style>\n",
              "<table border=\"1\" class=\"dataframe\">\n",
              "  <thead>\n",
              "    <tr style=\"text-align: right;\">\n",
              "      <th></th>\n",
              "      <th>Survived</th>\n",
              "      <th>Pclass</th>\n",
              "      <th>Age</th>\n",
              "      <th>Fare</th>\n",
              "      <th>Embarked</th>\n",
              "      <th>FamilySize</th>\n",
              "      <th>accompany</th>\n",
              "      <th>GenderClass</th>\n",
              "    </tr>\n",
              "  </thead>\n",
              "  <tbody>\n",
              "    <tr>\n",
              "      <th>0</th>\n",
              "      <td>0</td>\n",
              "      <td>3</td>\n",
              "      <td>22.0</td>\n",
              "      <td>7.2500</td>\n",
              "      <td>S</td>\n",
              "      <td>2</td>\n",
              "      <td>1</td>\n",
              "      <td>male</td>\n",
              "    </tr>\n",
              "    <tr>\n",
              "      <th>1</th>\n",
              "      <td>1</td>\n",
              "      <td>1</td>\n",
              "      <td>38.0</td>\n",
              "      <td>71.2833</td>\n",
              "      <td>C</td>\n",
              "      <td>2</td>\n",
              "      <td>1</td>\n",
              "      <td>female</td>\n",
              "    </tr>\n",
              "    <tr>\n",
              "      <th>2</th>\n",
              "      <td>1</td>\n",
              "      <td>3</td>\n",
              "      <td>26.0</td>\n",
              "      <td>7.9250</td>\n",
              "      <td>S</td>\n",
              "      <td>1</td>\n",
              "      <td>0</td>\n",
              "      <td>female</td>\n",
              "    </tr>\n",
              "    <tr>\n",
              "      <th>3</th>\n",
              "      <td>1</td>\n",
              "      <td>1</td>\n",
              "      <td>35.0</td>\n",
              "      <td>53.1000</td>\n",
              "      <td>S</td>\n",
              "      <td>2</td>\n",
              "      <td>1</td>\n",
              "      <td>female</td>\n",
              "    </tr>\n",
              "    <tr>\n",
              "      <th>4</th>\n",
              "      <td>0</td>\n",
              "      <td>3</td>\n",
              "      <td>35.0</td>\n",
              "      <td>8.0500</td>\n",
              "      <td>S</td>\n",
              "      <td>1</td>\n",
              "      <td>0</td>\n",
              "      <td>male</td>\n",
              "    </tr>\n",
              "  </tbody>\n",
              "</table>\n",
              "</div>"
            ],
            "text/plain": [
              "   Survived  Pclass   Age     Fare Embarked  FamilySize  accompany GenderClass\n",
              "0         0       3  22.0   7.2500        S           2          1        male\n",
              "1         1       1  38.0  71.2833        C           2          1      female\n",
              "2         1       3  26.0   7.9250        S           1          0      female\n",
              "3         1       1  35.0  53.1000        S           2          1      female\n",
              "4         0       3  35.0   8.0500        S           1          0        male"
            ]
          },
          "metadata": {
            "tags": []
          },
          "execution_count": 63
        }
      ]
    },
    {
      "cell_type": "markdown",
      "metadata": {
        "id": "8sN8fV2XUkZB",
        "colab_type": "text"
      },
      "source": [
        "## Goal is to convert evrything into numerical continous\n",
        "\n",
        "## don not do getDummeis() on  numerical ordinal discrete"
      ]
    },
    {
      "cell_type": "code",
      "metadata": {
        "id": "0KpEMa8fwj0V",
        "colab_type": "code",
        "outputId": "cf4f5ec0-4fe0-4668-f273-064471715b65",
        "colab": {
          "base_uri": "https://localhost:8080/",
          "height": 238
        }
      },
      "source": [
        "titanic.info()"
      ],
      "execution_count": 64,
      "outputs": [
        {
          "output_type": "stream",
          "text": [
            "<class 'pandas.core.frame.DataFrame'>\n",
            "RangeIndex: 891 entries, 0 to 890\n",
            "Data columns (total 8 columns):\n",
            "Survived       891 non-null int64\n",
            "Pclass         891 non-null int64\n",
            "Age            891 non-null float64\n",
            "Fare           891 non-null float64\n",
            "Embarked       891 non-null object\n",
            "FamilySize     891 non-null int64\n",
            "accompany      891 non-null int64\n",
            "GenderClass    891 non-null object\n",
            "dtypes: float64(2), int64(4), object(2)\n",
            "memory usage: 55.8+ KB\n"
          ],
          "name": "stdout"
        }
      ]
    },
    {
      "cell_type": "code",
      "metadata": {
        "id": "DiyEi7wKwrdj",
        "colab_type": "code",
        "colab": {}
      },
      "source": [
        "titanic = pd.get_dummies(titanic, columns=['GenderClass','Embarked'])"
      ],
      "execution_count": 0,
      "outputs": []
    },
    {
      "cell_type": "code",
      "metadata": {
        "id": "gd44NWnbIfkc",
        "colab_type": "code",
        "outputId": "d63b035f-5145-4ec1-dbff-0c03c588357d",
        "colab": {
          "base_uri": "https://localhost:8080/",
          "height": 162
        }
      },
      "source": [
        "titanic.head(3)"
      ],
      "execution_count": 66,
      "outputs": [
        {
          "output_type": "execute_result",
          "data": {
            "text/html": [
              "<div>\n",
              "<style scoped>\n",
              "    .dataframe tbody tr th:only-of-type {\n",
              "        vertical-align: middle;\n",
              "    }\n",
              "\n",
              "    .dataframe tbody tr th {\n",
              "        vertical-align: top;\n",
              "    }\n",
              "\n",
              "    .dataframe thead th {\n",
              "        text-align: right;\n",
              "    }\n",
              "</style>\n",
              "<table border=\"1\" class=\"dataframe\">\n",
              "  <thead>\n",
              "    <tr style=\"text-align: right;\">\n",
              "      <th></th>\n",
              "      <th>Survived</th>\n",
              "      <th>Pclass</th>\n",
              "      <th>Age</th>\n",
              "      <th>Fare</th>\n",
              "      <th>FamilySize</th>\n",
              "      <th>accompany</th>\n",
              "      <th>GenderClass_child</th>\n",
              "      <th>GenderClass_female</th>\n",
              "      <th>GenderClass_male</th>\n",
              "      <th>Embarked_C</th>\n",
              "      <th>Embarked_Q</th>\n",
              "      <th>Embarked_S</th>\n",
              "    </tr>\n",
              "  </thead>\n",
              "  <tbody>\n",
              "    <tr>\n",
              "      <th>0</th>\n",
              "      <td>0</td>\n",
              "      <td>3</td>\n",
              "      <td>22.0</td>\n",
              "      <td>7.2500</td>\n",
              "      <td>2</td>\n",
              "      <td>1</td>\n",
              "      <td>0</td>\n",
              "      <td>0</td>\n",
              "      <td>1</td>\n",
              "      <td>0</td>\n",
              "      <td>0</td>\n",
              "      <td>1</td>\n",
              "    </tr>\n",
              "    <tr>\n",
              "      <th>1</th>\n",
              "      <td>1</td>\n",
              "      <td>1</td>\n",
              "      <td>38.0</td>\n",
              "      <td>71.2833</td>\n",
              "      <td>2</td>\n",
              "      <td>1</td>\n",
              "      <td>0</td>\n",
              "      <td>1</td>\n",
              "      <td>0</td>\n",
              "      <td>1</td>\n",
              "      <td>0</td>\n",
              "      <td>0</td>\n",
              "    </tr>\n",
              "    <tr>\n",
              "      <th>2</th>\n",
              "      <td>1</td>\n",
              "      <td>3</td>\n",
              "      <td>26.0</td>\n",
              "      <td>7.9250</td>\n",
              "      <td>1</td>\n",
              "      <td>0</td>\n",
              "      <td>0</td>\n",
              "      <td>1</td>\n",
              "      <td>0</td>\n",
              "      <td>0</td>\n",
              "      <td>0</td>\n",
              "      <td>1</td>\n",
              "    </tr>\n",
              "  </tbody>\n",
              "</table>\n",
              "</div>"
            ],
            "text/plain": [
              "   Survived  Pclass   Age  ...  Embarked_C  Embarked_Q  Embarked_S\n",
              "0         0       3  22.0  ...           0           0           1\n",
              "1         1       1  38.0  ...           1           0           0\n",
              "2         1       3  26.0  ...           0           0           1\n",
              "\n",
              "[3 rows x 12 columns]"
            ]
          },
          "metadata": {
            "tags": []
          },
          "execution_count": 66
        }
      ]
    },
    {
      "cell_type": "markdown",
      "metadata": {
        "id": "otXFRtxaWBYv",
        "colab_type": "text"
      },
      "source": [
        "Drawing **PairPlot** to know the joint relationship "
      ]
    },
    {
      "cell_type": "code",
      "metadata": {
        "id": "XfEy4H2_WwGU",
        "colab_type": "code",
        "colab": {
          "base_uri": "https://localhost:8080/",
          "height": 567
        },
        "outputId": "d2029424-c434-4953-d18e-ea303bd1e318"
      },
      "source": [
        "sns.pairplot(titanic_data[['Fare','Age','Pclass','Survived']],vars=['Fare','Age','Pclass'],\n",
        "             hue='Survived',dropna=True,markers=['o','s'])\n",
        "plt.show()"
      ],
      "execution_count": 67,
      "outputs": [
        {
          "output_type": "display_data",
          "data": {
            "image/png": "[encoded data removed]",
            "text/plain": [
              "<Figure size 594.05x540 with 12 Axes>"
            ]
          },
          "metadata": {
            "tags": []
          }
        }
      ]
    },
    {
      "cell_type": "markdown",
      "metadata": {
        "id": "9F_Ot-HCX4bh",
        "colab_type": "text"
      },
      "source": [
        "# Observing the diagonal elements\n",
        " - More People of PClass 1 survived than died\n",
        " - More People PClass 3 died than survived \n",
        " - Most people of age group 20-40 died than survived\n",
        " - Most of the people paying lass fare died"
      ]
    },
    {
      "cell_type": "markdown",
      "metadata": {
        "id": "LasHNiEpZTxP",
        "colab_type": "text"
      },
      "source": [
        "# Establishing coorelation between all the features using HeatMap\n"
      ]
    },
    {
      "cell_type": "code",
      "metadata": {
        "id": "HuoQjVm1Znm0",
        "colab_type": "code",
        "colab": {
          "base_uri": "https://localhost:8080/",
          "height": 670
        },
        "outputId": "c580cf0b-d963-4011-cf2c-b9d7ce325956"
      },
      "source": [
        "corr=titanic.corr()\n",
        "plt.figure(figsize=(10,10))\n",
        "sns.heatmap(corr,vmax=.8,linewidths=0.1,square=True,annot=True,cmap='YlGnBu',linecolor='black')\n",
        "plt.title('Correlation between features')"
      ],
      "execution_count": 68,
      "outputs": [
        {
          "output_type": "execute_result",
          "data": {
            "text/plain": [
              "Text(0.5, 1, 'Correlation between features')"
            ]
          },
          "metadata": {
            "tags": []
          },
          "execution_count": 68
        },
        {
          "output_type": "display_data",
          "data": {
            "image/png": "[encoded data removed]",
            "text/plain": [
              "<Figure size 720x720 with 2 Axes>"
            ]
          },
          "metadata": {
            "tags": []
          }
        }
      ]
    },
    {
      "cell_type": "markdown",
      "metadata": {
        "id": "mPpidReXasf7",
        "colab_type": "text"
      },
      "source": [
        "- Age and Pclass are negatively correlated with Survived\n",
        "- FamilySize is made from Parch,Sibsb only therefor high correlation\n"
      ]
    },
    {
      "cell_type": "markdown",
      "metadata": {
        "id": "os2bMANZbCwz",
        "colab_type": "text"
      },
      "source": [
        "# Logistic Regression"
      ]
    },
    {
      "cell_type": "markdown",
      "metadata": {
        "id": "c2cWvD_ybH62",
        "colab_type": "text"
      },
      "source": [
        "Logistic regression is a technique used for solving the **classification problem** and classification is nothing but a problem of **identifing** to which of a set of categories a new observation belongs,on the basis of training of data containing observations whose categorical membership is known.      \n",
        "For example to predict:     \n",
        "Whether an email,is spam (1) or not(0) or\n",
        "\n",
        "# Mathematics behind Logistic regression\n",
        "The odds for an Event is the (probability of any event occurring) \n"
      ]
    },
    {
      "cell_type": "markdown",
      "metadata": {
        "id": "dhLdhAXWpkAG",
        "colab_type": "text"
      },
      "source": [
        "# Applications of Logistic Regression\n",
        "Logistic Regression  was used in **biological sciences** in early twentieth century.It was then used in many social sciece applications.\n",
        "- The trauma and injury severity score ,which uis widely used to **predict mortality in injured patients**  \n",
        "- Many other medical scales used to **access severity** of a patient have been devlopeed using logistic regession .\n",
        "- Logistic regression may be used to **Predict the risk of developing a given disease**(e.g. diabetes coronary heart disease), based on observed characteristics of the patient(ages,sex,body mass index).   \n",
        "Now a days,Logistic Regression have the following applications.\n",
        "1. Image segmentation\n",
        "2. Geographic Image Processing\n",
        "3. Handwritting recognition\n",
        "4. Detection of myoccardinal infraction\n",
        "5. Predict whether a person is depressed or not based on bag of word from corpus\n",
        "\n",
        "The reason why logistic regression is widely used despite of the art of deep neural network is that logistic regression is very efficient and does not require too much computational resources which makes it affordable to run on production"
      ]
    },
    {
      "cell_type": "markdown",
      "metadata": {
        "id": "7pB4o7aEsdBy",
        "colab_type": "text"
      },
      "source": [
        "# Preparing X and Y using pandas"
      ]
    },
    {
      "cell_type": "code",
      "metadata": {
        "id": "r8Bpx8cTIwUN",
        "colab_type": "code",
        "colab": {}
      },
      "source": [
        "X=titanic.loc[:,titanic.columns!='Survived']"
      ],
      "execution_count": 0,
      "outputs": []
    },
    {
      "cell_type": "code",
      "metadata": {
        "id": "E9SPDnQaJNmr",
        "colab_type": "code",
        "colab": {}
      },
      "source": [
        "Y=titanic['Survived']"
      ],
      "execution_count": 0,
      "outputs": []
    },
    {
      "cell_type": "code",
      "metadata": {
        "id": "gUeQXHgSKOio",
        "colab_type": "code",
        "colab": {}
      },
      "source": [
        "from sklearn.model_selection import  train_test_split\n",
        "X_train,X_test,Y_train,Y_test=train_test_split(X,Y,test_size=0.20,random_state=1)"
      ],
      "execution_count": 0,
      "outputs": []
    },
    {
      "cell_type": "code",
      "metadata": {
        "id": "kqM9BjBusth4",
        "colab_type": "code",
        "colab": {
          "base_uri": "https://localhost:8080/",
          "height": 85
        },
        "outputId": "87f29a0e-f077-407c-c374-a6d360b1df1b"
      },
      "source": [
        "print(X_train.shape)\n",
        "print(Y_train.shape)\n",
        "print(X_test.shape)\n",
        "print(Y_test.shape)"
      ],
      "execution_count": 72,
      "outputs": [
        {
          "output_type": "stream",
          "text": [
            "(712, 11)\n",
            "(712,)\n",
            "(179, 11)\n",
            "(179,)\n"
          ],
          "name": "stdout"
        }
      ]
    },
    {
      "cell_type": "code",
      "metadata": {
        "id": "4miaFZhjvI3v",
        "colab_type": "code",
        "colab": {
          "base_uri": "https://localhost:8080/",
          "height": 85
        },
        "outputId": "a655977f-740b-42c8-ccc7-0beca123118e"
      },
      "source": [
        "X_train.columns"
      ],
      "execution_count": 73,
      "outputs": [
        {
          "output_type": "execute_result",
          "data": {
            "text/plain": [
              "Index(['Pclass', 'Age', 'Fare', 'FamilySize', 'accompany', 'GenderClass_child',\n",
              "       'GenderClass_female', 'GenderClass_male', 'Embarked_C', 'Embarked_Q',\n",
              "       'Embarked_S'],\n",
              "      dtype='object')"
            ]
          },
          "metadata": {
            "tags": []
          },
          "execution_count": 73
        }
      ]
    },
    {
      "cell_type": "code",
      "metadata": {
        "id": "U-qRbrw1v5XZ",
        "colab_type": "code",
        "colab": {
          "base_uri": "https://localhost:8080/",
          "height": 204
        },
        "outputId": "aae65e3e-a28a-498b-b352-1f517e69b48a"
      },
      "source": [
        "X_train.head()"
      ],
      "execution_count": 74,
      "outputs": [
        {
          "output_type": "execute_result",
          "data": {
            "text/html": [
              "<div>\n",
              "<style scoped>\n",
              "    .dataframe tbody tr th:only-of-type {\n",
              "        vertical-align: middle;\n",
              "    }\n",
              "\n",
              "    .dataframe tbody tr th {\n",
              "        vertical-align: top;\n",
              "    }\n",
              "\n",
              "    .dataframe thead th {\n",
              "        text-align: right;\n",
              "    }\n",
              "</style>\n",
              "<table border=\"1\" class=\"dataframe\">\n",
              "  <thead>\n",
              "    <tr style=\"text-align: right;\">\n",
              "      <th></th>\n",
              "      <th>Pclass</th>\n",
              "      <th>Age</th>\n",
              "      <th>Fare</th>\n",
              "      <th>FamilySize</th>\n",
              "      <th>accompany</th>\n",
              "      <th>GenderClass_child</th>\n",
              "      <th>GenderClass_female</th>\n",
              "      <th>GenderClass_male</th>\n",
              "      <th>Embarked_C</th>\n",
              "      <th>Embarked_Q</th>\n",
              "      <th>Embarked_S</th>\n",
              "    </tr>\n",
              "  </thead>\n",
              "  <tbody>\n",
              "    <tr>\n",
              "      <th>301</th>\n",
              "      <td>3</td>\n",
              "      <td>28.0</td>\n",
              "      <td>23.2500</td>\n",
              "      <td>3</td>\n",
              "      <td>2</td>\n",
              "      <td>0</td>\n",
              "      <td>0</td>\n",
              "      <td>1</td>\n",
              "      <td>0</td>\n",
              "      <td>1</td>\n",
              "      <td>0</td>\n",
              "    </tr>\n",
              "    <tr>\n",
              "      <th>309</th>\n",
              "      <td>1</td>\n",
              "      <td>30.0</td>\n",
              "      <td>56.9292</td>\n",
              "      <td>1</td>\n",
              "      <td>0</td>\n",
              "      <td>0</td>\n",
              "      <td>1</td>\n",
              "      <td>0</td>\n",
              "      <td>1</td>\n",
              "      <td>0</td>\n",
              "      <td>0</td>\n",
              "    </tr>\n",
              "    <tr>\n",
              "      <th>516</th>\n",
              "      <td>2</td>\n",
              "      <td>34.0</td>\n",
              "      <td>10.5000</td>\n",
              "      <td>1</td>\n",
              "      <td>0</td>\n",
              "      <td>0</td>\n",
              "      <td>1</td>\n",
              "      <td>0</td>\n",
              "      <td>0</td>\n",
              "      <td>0</td>\n",
              "      <td>1</td>\n",
              "    </tr>\n",
              "    <tr>\n",
              "      <th>120</th>\n",
              "      <td>2</td>\n",
              "      <td>21.0</td>\n",
              "      <td>73.5000</td>\n",
              "      <td>3</td>\n",
              "      <td>2</td>\n",
              "      <td>0</td>\n",
              "      <td>0</td>\n",
              "      <td>1</td>\n",
              "      <td>0</td>\n",
              "      <td>0</td>\n",
              "      <td>1</td>\n",
              "    </tr>\n",
              "    <tr>\n",
              "      <th>570</th>\n",
              "      <td>2</td>\n",
              "      <td>62.0</td>\n",
              "      <td>10.5000</td>\n",
              "      <td>1</td>\n",
              "      <td>0</td>\n",
              "      <td>0</td>\n",
              "      <td>0</td>\n",
              "      <td>1</td>\n",
              "      <td>0</td>\n",
              "      <td>0</td>\n",
              "      <td>1</td>\n",
              "    </tr>\n",
              "  </tbody>\n",
              "</table>\n",
              "</div>"
            ],
            "text/plain": [
              "     Pclass   Age     Fare  ...  Embarked_C  Embarked_Q  Embarked_S\n",
              "301       3  28.0  23.2500  ...           0           1           0\n",
              "309       1  30.0  56.9292  ...           1           0           0\n",
              "516       2  34.0  10.5000  ...           0           0           1\n",
              "120       2  21.0  73.5000  ...           0           0           1\n",
              "570       2  62.0  10.5000  ...           0           0           1\n",
              "\n",
              "[5 rows x 11 columns]"
            ]
          },
          "metadata": {
            "tags": []
          },
          "execution_count": 74
        }
      ]
    },
    {
      "cell_type": "markdown",
      "metadata": {
        "id": "M7TdH1rxs9Pq",
        "colab_type": "text"
      },
      "source": [
        "# Logistic Regression in scikit-learn\n",
        "To apply any machine learning algorithm on our dataset ,basically there are 4 steps:\n",
        "1. Load the algorithm\n",
        "2. Instantiate and Fit the model to the training set\n",
        "3. Prediction on the test result\n",
        "4. Calculating the accuracy of the model\n",
        "\n"
      ]
    },
    {
      "cell_type": "markdown",
      "metadata": {
        "id": "aOhecUewtthM",
        "colab_type": "text"
      },
      "source": [
        "# Base Model --> No Parameter Model\n",
        "# Baseline Model --> Simplistic model in overall model choiced ,which acts as base line,which means we should not get results lesser than this baseline model.Baseline model can be base or parameterized model.In regression ,usually we take LinearReg as baseline.In classification we take LogReg as baseline.\n"
      ]
    },
    {
      "cell_type": "code",
      "metadata": {
        "id": "j7cLCYIQKniX",
        "colab_type": "code",
        "outputId": "84a73d95-a773-4e7e-80f7-153bbe66350f",
        "colab": {
          "base_uri": "https://localhost:8080/",
          "height": 102
        }
      },
      "source": [
        "from sklearn.linear_model import LogisticRegression\n",
        "logreg=LogisticRegression()\n",
        "logreg.fit(X_train,Y_train)"
      ],
      "execution_count": 82,
      "outputs": [
        {
          "output_type": "execute_result",
          "data": {
            "text/plain": [
              "LogisticRegression(C=1.0, class_weight=None, dual=False, fit_intercept=True,\n",
              "                   intercept_scaling=1, l1_ratio=None, max_iter=100,\n",
              "                   multi_class='auto', n_jobs=None, penalty='l2',\n",
              "                   random_state=None, solver='lbfgs', tol=0.0001, verbose=0,\n",
              "                   warm_start=False)"
            ]
          },
          "metadata": {
            "tags": []
          },
          "execution_count": 82
        }
      ]
    },
    {
      "cell_type": "code",
      "metadata": {
        "id": "YBqD7cY3Lx_m",
        "colab_type": "code",
        "outputId": "ac0567b4-a33c-4712-8679-a23b50cbef0b",
        "colab": {
          "base_uri": "https://localhost:8080/",
          "height": 51
        }
      },
      "source": [
        "from sklearn.model_selection import GridSearchCV\n",
        "grid={\n",
        "      \"C\":np.logspace(-3,3,7), \n",
        "      \"penalty\":[\"l1\",\"l2\"], \n",
        "      \"tol\":[0.01,0.001,0.0001]\n",
        "     }# l1 lasso l2 ridge\n",
        "logreg=LogisticRegression()\n",
        "log_regCV=GridSearchCV(logreg,grid,cv=10)\n",
        "log_regCV.fit(X_train,Y_train)\n",
        "print(\"tuned hpyerparameters :(best parameters) \",log_regCV.best_params_)\n",
        "print(\"accuracy :\",log_regCV.best_score_)"
      ],
      "execution_count": 81,
      "outputs": [
        {
          "output_type": "stream",
          "text": [
            "tuned hpyerparameters :(best parameters)  {'C': 10.0, 'penalty': 'l2', 'tol': 0.01}\n",
            "accuracy : 0.8301838810641626\n"
          ],
          "name": "stdout"
        }
      ]
    },
    {
      "cell_type": "code",
      "metadata": {
        "id": "K1QFb-TtPblM",
        "colab_type": "code",
        "colab": {}
      },
      "source": [
        "Y_pred_train=logreg.predict(X_train)"
      ],
      "execution_count": 0,
      "outputs": []
    },
    {
      "cell_type": "code",
      "metadata": {
        "id": "5_JD1KpUQE99",
        "colab_type": "code",
        "colab": {}
      },
      "source": [
        "Y_pred_test=logreg.predict(X_test)"
      ],
      "execution_count": 0,
      "outputs": []
    },
    {
      "cell_type": "code",
      "metadata": {
        "id": "i-gCUlDbRuR5",
        "colab_type": "code",
        "colab": {}
      },
      "source": [
        "Y_pred_grid=log_regCV.predict(X_test)"
      ],
      "execution_count": 0,
      "outputs": []
    },
    {
      "cell_type": "markdown",
      "metadata": {
        "id": "2ekuvbsHyN5Q",
        "colab_type": "text"
      },
      "source": [
        "# Model Evaluation\n",
        "**Error** is the deviation of the values predicted by the model with the true values.We will use **accuracy_score and _confusion_matrix** for evaluation."
      ]
    },
    {
      "cell_type": "code",
      "metadata": {
        "id": "ia2yuC9fRlDl",
        "colab_type": "code",
        "outputId": "89d32169-723c-4c1a-d083-6ef2817e98a2",
        "colab": {
          "base_uri": "https://localhost:8080/",
          "height": 34
        }
      },
      "source": [
        "from sklearn.metrics import accuracy_score\n",
        "print('Accuracy score for test data is:', accuracy_score(Y_test,Y_pred_test))"
      ],
      "execution_count": 88,
      "outputs": [
        {
          "output_type": "stream",
          "text": [
            "Accuracy score for test data is: 0.7932960893854749\n"
          ],
          "name": "stdout"
        }
      ]
    },
    {
      "cell_type": "code",
      "metadata": {
        "id": "Vavzg42iR8bE",
        "colab_type": "code",
        "outputId": "aa855a1f-ea4f-4a9a-da6f-dfd4f2de99ec",
        "colab": {
          "base_uri": "https://localhost:8080/",
          "height": 34
        }
      },
      "source": [
        "from sklearn.metrics import accuracy_score\n",
        "print('Accuracy score for test data is:', accuracy_score(Y_test,Y_pred_grid))"
      ],
      "execution_count": 89,
      "outputs": [
        {
          "output_type": "stream",
          "text": [
            "Accuracy score for test data is: 0.7877094972067039\n"
          ],
          "name": "stdout"
        }
      ]
    },
    {
      "cell_type": "code",
      "metadata": {
        "id": "iZPsOSgkysz-",
        "colab_type": "code",
        "colab": {}
      },
      "source": [
        "# Accuracy --> Out of all predictions,how many are correct\n",
        "# TotalCorrect/Total Prediction\n"
      ],
      "execution_count": 0,
      "outputs": []
    },
    {
      "cell_type": "markdown",
      "metadata": {
        "id": "rPotjUZay-Sd",
        "colab_type": "text"
      },
      "source": [
        "# Model Evaluation using confusion matrix\n",
        "A **confusion metrix** is a **summary** of prediction  results on classification problem.\n",
        "The number of correct and incorrect predictions are summarized with count values and broken down by each class."
      ]
    },
    {
      "cell_type": "code",
      "metadata": {
        "id": "scawQtUPzuUz",
        "colab_type": "code",
        "colab": {
          "base_uri": "https://localhost:8080/",
          "height": 285
        },
        "outputId": "e3e469b4-bdc7-4da1-db74-be8cb19da9fc"
      },
      "source": [
        "titanic['Survived'].hist()"
      ],
      "execution_count": 91,
      "outputs": [
        {
          "output_type": "execute_result",
          "data": {
            "text/plain": [
              "<matplotlib.axes._subplots.AxesSubplot at 0x7ff365e629e8>"
            ]
          },
          "metadata": {
            "tags": []
          },
          "execution_count": 91
        },
        {
          "output_type": "display_data",
          "data": {
            "image/png": "[encoded data removed]",
            "text/plain": [
              "<Figure size 432x288 with 1 Axes>"
            ]
          },
          "metadata": {
            "tags": []
          }
        }
      ]
    },
    {
      "cell_type": "code",
      "metadata": {
        "id": "ELNgG4PCUCq_",
        "colab_type": "code",
        "outputId": "f0f22328-98ba-42ac-8832-29bdbe2d8b54",
        "colab": {
          "base_uri": "https://localhost:8080/",
          "height": 111
        }
      },
      "source": [
        "from sklearn.metrics import confusion_matrix\n",
        "\n",
        "confusion_matrix=pd.DataFrame(confusion_matrix(Y_test,Y_pred_test))\n",
        "confusion_matrix"
      ],
      "execution_count": 92,
      "outputs": [
        {
          "output_type": "execute_result",
          "data": {
            "text/html": [
              "<div>\n",
              "<style scoped>\n",
              "    .dataframe tbody tr th:only-of-type {\n",
              "        vertical-align: middle;\n",
              "    }\n",
              "\n",
              "    .dataframe tbody tr th {\n",
              "        vertical-align: top;\n",
              "    }\n",
              "\n",
              "    .dataframe thead th {\n",
              "        text-align: right;\n",
              "    }\n",
              "</style>\n",
              "<table border=\"1\" class=\"dataframe\">\n",
              "  <thead>\n",
              "    <tr style=\"text-align: right;\">\n",
              "      <th></th>\n",
              "      <th>0</th>\n",
              "      <th>1</th>\n",
              "    </tr>\n",
              "  </thead>\n",
              "  <tbody>\n",
              "    <tr>\n",
              "      <th>0</th>\n",
              "      <td>93</td>\n",
              "      <td>13</td>\n",
              "    </tr>\n",
              "    <tr>\n",
              "      <th>1</th>\n",
              "      <td>24</td>\n",
              "      <td>49</td>\n",
              "    </tr>\n",
              "  </tbody>\n",
              "</table>\n",
              "</div>"
            ],
            "text/plain": [
              "    0   1\n",
              "0  93  13\n",
              "1  24  49"
            ]
          },
          "metadata": {
            "tags": []
          },
          "execution_count": 92
        }
      ]
    },
    {
      "cell_type": "code",
      "metadata": {
        "id": "clrOnMbUUr7Q",
        "colab_type": "code",
        "outputId": "6cec0536-373f-4b44-9403-c1fbb8689749",
        "colab": {
          "base_uri": "https://localhost:8080/",
          "height": 68
        }
      },
      "source": [
        "confusion_matrix.index = ['Actual Died','Actual Survived']\n",
        "confusion_matrix.columns = ['Predicted Died','Predicted Survived']\n",
        "print(confusion_matrix)"
      ],
      "execution_count": 93,
      "outputs": [
        {
          "output_type": "stream",
          "text": [
            "                 Predicted Died  Predicted Survived\n",
            "Actual Died                  93                  13\n",
            "Actual Survived              24                  49\n"
          ],
          "name": "stdout"
        }
      ]
    },
    {
      "cell_type": "markdown",
      "metadata": {
        "id": "zrz0NE4_0Fja",
        "colab_type": "text"
      },
      "source": [
        "This means **93+49=142 correct predictions** and **25+13=38** false predictions\n",
        "\n",
        "**Adjusting Threshold** \n",
        "- We have used .predict method for classification .The method takes 0.5 as the default threshold for prediction\n",
        "- Now,we are going to see the impact of changing threshold on the accuracy of our logistic regression model.\n",
        "- For this we are going to use **.predict_proba** method instead of using .predict method\n"
      ]
    }
  ]
}